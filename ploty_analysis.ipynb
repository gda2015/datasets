{
 "cells": [
  {
   "cell_type": "code",
   "execution_count": null,
   "metadata": {},
   "outputs": [],
   "source": [
    "%%HTML\n",
    "<style>\n",
    "table.dataframe {\n",
    "    border-collapse: collapse;\n",
    "    border: 1px dashed #274472;\n",
    "    font-size: 13px;\n",
    "}\n",
    "\n",
    "table.dataframe tr {\n",
    "    border: 1px solid #274472;\n",
    "}\n",
    "\n",
    "table.dataframe td, table.dataframe th {\n",
    "    margin: 0;    \n",
    "    border: 1px solid #274472;\n",
    "    background-color: #bfd7ed;\n",
    "    padding-left: 0.25em;\n",
    "    padding-right: 0.25em;\n",
    "}\n",
    "\n",
    "table.dataframe th:not(:empty) {\n",
    "    border: 1px solid #274472;\n",
    "    background-color: #bfd7ed;\n",
    "    text-align: center;\n",
    "    font-weight: normal;\n",
    "}\n",
    "\n",
    "table.dataframe tr:nth-child(2) th:empty {\n",
    "    border-left: 1px solid #274472;\n",
    "    border-right: 1px solid #274472;\n",
    "}\n",
    "\n",
    "table.dataframe td {\n",
    "    border: 1px solid #274472;\n",
    "    background-color: #bfd7ed;\n",
    "}\n",
    "</style>"
   ]
  },
  {
   "cell_type": "code",
   "execution_count": 3,
   "metadata": {},
   "outputs": [],
   "source": [
    "import pandas as pd\n",
    "import numpy as np\n",
    "import matplotlib.pyplot as plt\n",
    "import seaborn as sns\n",
    "\n",
    "# Standard plotly imports\n",
    "import plotly.graph_objects as go\n",
    "import plotly.express as px\n",
    "import plotly.io as pio\n",
    "\n",
    "pio.templates.default = \"none\"\n",
    "colors = {\n",
    "    'background': '#241b2f',\n",
    "    'text': '#03edf9'\n",
    "}"
   ]
  },
  {
   "cell_type": "code",
   "execution_count": null,
   "metadata": {},
   "outputs": [],
   "source": [
    "fp = \"bio_pop_co2_gdp_geo_final.csv\"\n",
    "\n",
    "df = pd.read_csv(fp)\n",
    "\n",
    "df = df.rename(columns={'BIO':'Production'})\n",
    "\n",
    "df['Income Set'] = np.where(df[\"Income Group\"].str.contains(\"High\", case=True, na=False), True, False)\n",
    "\n",
    "df['Year End'] = pd.to_datetime(df['Year'], format=\"%Y\")\n",
    "\n",
    "df = df.drop(\"Unnamed: 11\", axis=1)\n",
    "\n",
    "df.head()"
   ]
  },
  {
   "cell_type": "code",
   "execution_count": null,
   "metadata": {},
   "outputs": [],
   "source": [
    "xf = df.groupby([\"Income Group\"])[\"Production\"].sum().sort_values().reset_index()\n",
    "xf"
   ]
  },
  {
   "cell_type": "code",
   "execution_count": null,
   "metadata": {},
   "outputs": [],
   "source": [
    "fig = px.bar(\n",
    "    data_frame=xf,\n",
    "    x=\"Income Group\",\n",
    "    y=\"Production\",\n",
    ")\n",
    "\n",
    "fig.update_layout(plot_bgcolor=\"#ffffff\", paper_bgcolor=\"#ffffff\", autosize=False)\n",
    "\n",
    "\n",
    "fig.show()"
   ]
  },
  {
   "cell_type": "code",
   "execution_count": null,
   "metadata": {},
   "outputs": [],
   "source": [
    "fig = px.bar(\n",
    "    data_frame=xf,\n",
    "    x=\"Income Group\",\n",
    "    y=\"Production\",\n",
    ")\n",
    "\n",
    "for template in [\"plotly\", \"plotly_white\", \"plotly_dark\", \"ggplot2\", \"seaborn\", \"simple_white\", \"none\"]:\n",
    "    fig.update_layout(template=template, autosize=False, title=\"Biofuels: '%s' theme\" % template)\n",
    "    fig.show()"
   ]
  },
  {
   "cell_type": "code",
   "execution_count": null,
   "metadata": {},
   "outputs": [],
   "source": [
    "xf = df.groupby([\"Year\",\"Income Group\"])[\"Production\"].sum().sort_index().reset_index()\n",
    "xf['Production'] = xf['Production'].round(2)\n",
    "xf.head()"
   ]
  },
  {
   "cell_type": "code",
   "execution_count": null,
   "metadata": {},
   "outputs": [],
   "source": [
    "fig = px.bar(\n",
    "    data_frame=xf, x=\"Year\",\n",
    "    y=\"Production\",\n",
    "    color=\"Income Group\",\n",
    ")\n",
    "\n",
    "fig.update_layout(plot_bgcolor=\"#ffffff\", paper_bgcolor=\"#ffffff\", autosize=False)\n",
    "\n",
    "fig.show()"
   ]
  },
  {
   "cell_type": "code",
   "execution_count": null,
   "metadata": {},
   "outputs": [],
   "source": [
    "fig = px.bar(\n",
    "    data_frame=xf,\n",
    "    x=\"Year\",\n",
    "    y=\"Production\",\n",
    "    color=\"Income Group\",\n",
    "    barmode=\"group\",\n",
    ")\n",
    "\n",
    "fig.update_layout(\n",
    "    plot_bgcolor=\"#ffffff\",\n",
    "    paper_bgcolor=\"#ffffff\",\n",
    "    autosize=False,\n",
    ")\n",
    "\n",
    "\n",
    "fig.show()"
   ]
  },
  {
   "cell_type": "code",
   "execution_count": null,
   "metadata": {},
   "outputs": [],
   "source": [
    "xf = df.groupby([\"Year\",\"Region\"])[\"Production\"].sum().reset_index()\n",
    "xf['Production'] = xf['Production'].round(2)\n",
    "xf.info()"
   ]
  },
  {
   "cell_type": "code",
   "execution_count": null,
   "metadata": {},
   "outputs": [],
   "source": [
    "fig = px.scatter(\n",
    "    data_frame=xf,\n",
    "    x='Year',\n",
    "    y='Production',\n",
    "    color='Region',\n",
    ")\n",
    "\n",
    "fig.update_traces(mode='lines+markers')\n",
    "\n",
    "fig.update_layout(autosize=False)\n",
    "\n",
    "fig.show()"
   ]
  },
  {
   "cell_type": "code",
   "execution_count": null,
   "metadata": {},
   "outputs": [],
   "source": [
    "#extract color palette, the palette can be changed\n",
    "list_dist = list(set(xf['Region']))\n",
    "pal = list(sns.color_palette(palette='Spectral',\n",
    "                             n_colors=len(list_dist)).as_hex())\n",
    "dict_color = dict(zip(list_dist, pal))\n",
    "\n",
    "fig = px.bar(xf,\n",
    "             x='Region',\n",
    "             y='Production',\n",
    "             color='Region',\n",
    "             text='Production',\n",
    "             color_discrete_map= dict_color,\n",
    "             animation_frame='Year',\n",
    "             animation_group='Region',\n",
    "             range_y=[0, 1100],\n",
    "             labels={ 'Production': 'Production Totals'},\n",
    "            )\n",
    "fig.update_layout(width=1000, height=600, showlegend=False,\n",
    "                  xaxis = dict(tickmode = 'linear', dtick = 1))\n",
    "fig.update_traces(textfont_size=12, textangle=0)\n",
    "fig.show()"
   ]
  },
  {
   "cell_type": "code",
   "execution_count": null,
   "metadata": {},
   "outputs": [],
   "source": [
    "q = df.groupby(['Year','Region'])['Production'].sum().unstack('Region')\n",
    "q"
   ]
  },
  {
   "cell_type": "code",
   "execution_count": null,
   "metadata": {},
   "outputs": [],
   "source": [
    "fig = px.scatter(\n",
    "    data_frame=q,\n",
    "    color='Region',\n",
    "    hover_name='Region',\n",
    "    facet_col='Region',\n",
    "    facet_col_wrap=2,\n",
    "    height=600,\n",
    "    width=800,\n",
    ")\n",
    "\n",
    "fig.update_traces(mode='lines+markers')"
   ]
  },
  {
   "cell_type": "code",
   "execution_count": null,
   "metadata": {},
   "outputs": [],
   "source": [
    "fig = px.scatter(\n",
    "    data_frame=df.query(\"Year==2010\"),\n",
    "    x=\"CO2\",\n",
    "    y=\"GDP\",\n",
    "    size=\"Population\",\n",
    "    hover_name=\"Country Code\",\n",
    "    color=\"Income Group\",\n",
    ")\n",
    "\n",
    "fig.update_layout(autosize=False)\n",
    "\n",
    "fig.show()"
   ]
  },
  {
   "cell_type": "code",
   "execution_count": null,
   "metadata": {},
   "outputs": [],
   "source": [
    "xf = df.groupby(['Year End', 'Country Code'])['Production'].sum().reset_index()\n",
    "\n",
    "countries = ['USA', 'BRA', 'DEU', 'IND']\n",
    "\n",
    "xf = xf[xf['Country Code'].isin(countries)].sort_values(['Country Code','Year End'])\n",
    "\n",
    "xf.info()"
   ]
  },
  {
   "cell_type": "code",
   "execution_count": null,
   "metadata": {},
   "outputs": [],
   "source": [
    "fig = px.area(\n",
    "    data_frame=xf,\n",
    "    x='Year End',\n",
    "    y='Production',\n",
    "    facet_col='Country Code',\n",
    "    height=400,\n",
    "    width=1200,\n",
    ")\n",
    "fig.update_layout(autosize=False)\n",
    "\n",
    "fig.show()"
   ]
  },
  {
   "cell_type": "code",
   "execution_count": null,
   "metadata": {},
   "outputs": [],
   "source": [
    "fig = px.histogram(\n",
    "    data_frame=df,\n",
    "    x=\"Production\",\n",
    "    width=650,\n",
    "    height=400,\n",
    ")\n",
    "\n",
    "fig.show()"
   ]
  },
  {
   "cell_type": "code",
   "execution_count": null,
   "metadata": {},
   "outputs": [],
   "source": [
    "fig = px.histogram(\n",
    "    data_frame=df,\n",
    "    x=\"Region\",\n",
    "    y=\"Production\",\n",
    "    width=800,\n",
    "    height=400,\n",
    ")\n",
    "\n",
    "fig.show()"
   ]
  },
  {
   "cell_type": "code",
   "execution_count": null,
   "metadata": {},
   "outputs": [],
   "source": [
    "fig = px.box(\n",
    "    data_frame=df,\n",
    "    x=\"Region\",\n",
    "    y=\"Production\",\n",
    "    width=800,\n",
    "    height=400,\n",
    ")\n",
    "\n",
    "fig.show()"
   ]
  },
  {
   "cell_type": "code",
   "execution_count": null,
   "metadata": {},
   "outputs": [],
   "source": [
    "fig = px.scatter_geo(\n",
    "    data_frame=df,\n",
    "    locations=\"Country Code\",\n",
    "    color=\"Income Group\",\n",
    "    hover_name=\"Country Name\",\n",
    "    size=\"Population\",\n",
    "    animation_frame=\"Year\",\n",
    "    projection=\"natural earth\",\n",
    "    width=800,\n",
    "    height=400,\n",
    ")\n",
    "\n",
    "fig.show()"
   ]
  },
  {
   "cell_type": "code",
   "execution_count": null,
   "metadata": {},
   "outputs": [],
   "source": [
    "ist = df.query(\"`Income Set`==True\").groupby([\"Year\"])['Production'].sum().round(2).reset_index()\n",
    "isf = df.query(\"`Income Set`==False\").groupby([\"Year\"])['Production'].sum().round(2).reset_index()\n",
    "\n",
    "display(ist)\n",
    "display(isf)"
   ]
  },
  {
   "cell_type": "code",
   "execution_count": null,
   "metadata": {},
   "outputs": [],
   "source": [
    "fig = go.Figure()\n",
    "\n",
    "fig.add_trace(go.Bar(\n",
    "    x=ist.Year,\n",
    "    y=ist.Production,\n",
    "    name='High Income',\n",
    "    marker_color='indianred')\n",
    ")\n",
    "\n",
    "fig.add_trace(go.Bar(\n",
    "    x=isf.Year,\n",
    "    y=isf.Production,\n",
    "    name='Low Income',\n",
    "    marker_color='lightsalmon')\n",
    ")\n",
    "\n",
    "# Here we modify the tickangle of the xaxis, resulting in rotated labels.\n",
    "fig.update_layout(\n",
    "    autosize=False,\n",
    "    barmode='group',\n",
    "    xaxis_tickangle=-45,\n",
    "    bargap=0.15,\n",
    "    bargroupgap=0.1,\n",
    "    plot_bgcolor='white',\n",
    ")\n",
    "\n",
    "fig.show()"
   ]
  },
  {
   "cell_type": "code",
   "execution_count": null,
   "metadata": {},
   "outputs": [],
   "source": [
    "fig = go.Figure()\n",
    "\n",
    "fig.add_trace(go.Bar(\n",
    "    x=ist.Year,\n",
    "    y=ist.Production,\n",
    "    name='High Income',\n",
    "    marker_color='indianred')\n",
    ")\n",
    "\n",
    "fig.add_trace(go.Bar(\n",
    "    x=isf.Year,\n",
    "    y=isf.Production,\n",
    "    name='Low Income',\n",
    "    marker_color='lightsalmon')\n",
    ")\n",
    "\n",
    "# Here we modify the tickangle of the xaxis, resulting in rotated labels.\n",
    "fig.update_layout(\n",
    "    autosize=False,\n",
    "    barmode='stack',\n",
    "    xaxis_tickangle=-45,\n",
    "    bargap=0.15,\n",
    "    bargroupgap=0.1,\n",
    "    plot_bgcolor='white',\n",
    ")\n"
   ]
  },
  {
   "cell_type": "code",
   "execution_count": null,
   "metadata": {},
   "outputs": [],
   "source": [
    "fig = go.Figure()\n",
    "\n",
    "fig.add_trace(go.Scatter(\n",
    "    x=ist.Year,\n",
    "    y=ist.Production,\n",
    "    name='High Income',\n",
    "    marker_color='indianred')\n",
    ")\n",
    "\n",
    "fig.add_trace(go.Bar(\n",
    "    x=isf.Year,\n",
    "    y=isf.Production,\n",
    "    name='Low Income',\n",
    "    marker_color='lightsalmon')\n",
    ")\n",
    "\n",
    "# Here we modify the tickangle of the xaxis, resulting in rotated labels.\n",
    "fig.update_layout(\n",
    "    autosize=False,\n",
    "    barmode='group',\n",
    "    xaxis_tickangle=-45,\n",
    "    bargap=0.15,\n",
    "    bargroupgap=0.1,\n",
    "    plot_bgcolor='white',\n",
    ")\n"
   ]
  },
  {
   "cell_type": "code",
   "execution_count": null,
   "metadata": {},
   "outputs": [],
   "source": [
    "colors = ['lightgray',] * isf.Year.size\n",
    "colors[-1] = 'crimson'\n",
    "\n",
    "fig = go.Figure(data=[go.Bar(\n",
    "    x=isf.Year,\n",
    "    y=isf.Production,\n",
    "    marker_color=colors)]\n",
    ")\n",
    "\n",
    "from_yr = isf.Year.min()\n",
    "to_yr = isf.Year.max()\n",
    "\n",
    "fig.update_layout(\n",
    "    title=f'<em>Low Income Production from {from_yr} to {to_yr}</em>',\n",
    "\n",
    "    autosize=False,\n",
    "    margin=dict(\n",
    "        autoexpand=True,\n",
    "        l=100,\n",
    "        r=20,\n",
    "        t=90,\n",
    "    ),\n",
    "    showlegend=False,\n",
    "    plot_bgcolor='white'\n",
    ")\n",
    "\n",
    "fig.show()"
   ]
  },
  {
   "cell_type": "markdown",
   "metadata": {},
   "source": [
    "## Sankey\n",
    "---"
   ]
  },
  {
   "cell_type": "code",
   "execution_count": null,
   "metadata": {},
   "outputs": [],
   "source": [
    "df = sns.load_dataset(\"penguins\")\n",
    "df = df.dropna(how='any')\n",
    "df.head()"
   ]
  },
  {
   "cell_type": "code",
   "execution_count": null,
   "metadata": {},
   "outputs": [],
   "source": [
    "df = df.groupby(['sex', 'species'])['body_mass_g'].mean()\n",
    "df = df.to_frame(name='value').reset_index()\n",
    "df.head()"
   ]
  },
  {
   "cell_type": "code",
   "execution_count": null,
   "metadata": {},
   "outputs": [],
   "source": [
    "all_nodes = df.sex.values.tolist() + df.species.values.tolist()\n",
    "source_indices = [all_nodes.index(sex) for sex in df.sex]\n",
    "target_indices = [all_nodes.index(species) for species in df.species]\n",
    "sankey_measure = df.value\n",
    "\n",
    "fig = go.Figure(\n",
    "    data=[go.Sankey(\n",
    "        node=dict(\n",
    "            pad=20,\n",
    "            thickness=20,\n",
    "            line=dict(color=\"black\", width=1.0),\n",
    "            label=all_nodes,\n",
    "        ),\n",
    "        link=dict(\n",
    "            source=source_indices,\n",
    "            target=target_indices,\n",
    "            value=sankey_measure,\n",
    "        )\n",
    "    )]\n",
    ")\n",
    "\n",
    "fig.update_layout(title_text=\"Penguins\", font_size=10, autosize=False)\n",
    "\n",
    "fig.show()"
   ]
  },
  {
   "cell_type": "markdown",
   "metadata": {},
   "source": [
    "## Plot Datasets\n",
    "---"
   ]
  },
  {
   "cell_type": "code",
   "execution_count": null,
   "metadata": {},
   "outputs": [],
   "source": [
    "d = pd.read_excel(\"plot_datasets.xlsx\", sheet_name=None)\n",
    "\n",
    "type(d)"
   ]
  },
  {
   "cell_type": "code",
   "execution_count": null,
   "metadata": {},
   "outputs": [],
   "source": [
    "d.keys()"
   ]
  },
  {
   "cell_type": "code",
   "execution_count": null,
   "metadata": {},
   "outputs": [],
   "source": [
    "for k, v in d.items():\n",
    "    print(f\"{k} is \", len(d[k]))"
   ]
  },
  {
   "cell_type": "code",
   "execution_count": null,
   "metadata": {},
   "outputs": [],
   "source": [
    "df = d['str_line']\n",
    "df"
   ]
  },
  {
   "cell_type": "code",
   "execution_count": null,
   "metadata": {},
   "outputs": [],
   "source": [
    "df_props = {'background-color': 'white', 'color':'grey', 'font-family':'Lucida Sans', 'font-size':'13px', 'border': '1px dashed #000066'}\n",
    "\n",
    "df.style.set_properties(**df_props)"
   ]
  },
  {
   "cell_type": "code",
   "execution_count": null,
   "metadata": {},
   "outputs": [],
   "source": []
  }
 ],
 "metadata": {
  "kernelspec": {
   "display_name": "base",
   "language": "python",
   "name": "python3"
  },
  "language_info": {
   "codemirror_mode": {
    "name": "ipython",
    "version": 3
   },
   "file_extension": ".py",
   "mimetype": "text/x-python",
   "name": "python",
   "nbconvert_exporter": "python",
   "pygments_lexer": "ipython3",
   "version": "3.12.2"
  }
 },
 "nbformat": 4,
 "nbformat_minor": 2
}
