{
  "nbformat": 4,
  "nbformat_minor": 0,
  "metadata": {
    "colab": {
      "name": "Untitled2.ipynb",
      "provenance": [],
      "authorship_tag": "ABX9TyNmWQfFB0aPJRYDkOD0ma78",
      "include_colab_link": true
    },
    "kernelspec": {
      "name": "python3",
      "display_name": "Python 3"
    }
  },
  "cells": [
    {
      "cell_type": "markdown",
      "metadata": {
        "id": "view-in-github",
        "colab_type": "text"
      },
      "source": [
        "<a href=\"https://colab.research.google.com/github/gda2015/datasets/blob/master/Biofuels.ipynb\" target=\"_parent\"><img src=\"https://colab.research.google.com/assets/colab-badge.svg\" alt=\"Open In Colab\"/></a>"
      ]
    },
    {
      "cell_type": "code",
      "metadata": {
        "id": "U_BBkc9YjJjc",
        "colab_type": "code",
        "colab": {
          "base_uri": "https://localhost:8080/",
          "height": 34
        },
        "outputId": "c41a4fd0-2277-4b01-9df4-b652fe475dfd"
      },
      "source": [
        "import pandas as pd\n",
        "\n",
        "print('Pandas version', pd.__version__)"
      ],
      "execution_count": 1,
      "outputs": [
        {
          "output_type": "stream",
          "text": [
            "Pandas version 1.0.3\n"
          ],
          "name": "stdout"
        }
      ]
    },
    {
      "cell_type": "code",
      "metadata": {
        "id": "n_uRU1zkjwCo",
        "colab_type": "code",
        "colab": {
          "base_uri": "https://localhost:8080/",
          "height": 411
        },
        "outputId": "06d1b4a2-1899-41f8-9499-11337d9ad09e"
      },
      "source": [
        "df = pd.DataFrame(\n",
        "    {'USA':[105.54, 115.71, 140.29, 183.87, 223.29, 260.61, 334.95, 457.33, 649.68, 746.52, 887.62],\n",
        "     'BRA':[183.89, 197.59, 216.93, 249.35, 251.72, 276.42, 307.31, 395.68, 486.35, 477.53, 527.32],\n",
        "     'DEU':[4.3, 5.4, 8.8, 14, 20.4, 35.8, 59.4, 63.8 ,65, 58, 62],\n",
        "     'IND':[2.9, 3.0, 3.2, 3.3, 3.5, 3.9, 4.5, 4.7, 5.2, 7, 7],\n",
        "     'YEAR':pd.date_range('20000101', periods = 11, freq=\"y\")\n",
        "    })\n",
        "\n",
        "df.set_index('YEAR', inplace=True)\n",
        "\n",
        "df.info()"
      ],
      "execution_count": 2,
      "outputs": [
        {
          "output_type": "execute_result",
          "data": {
            "text/html": [
              "<div>\n",
              "<style scoped>\n",
              "    .dataframe tbody tr th:only-of-type {\n",
              "        vertical-align: middle;\n",
              "    }\n",
              "\n",
              "    .dataframe tbody tr th {\n",
              "        vertical-align: top;\n",
              "    }\n",
              "\n",
              "    .dataframe thead th {\n",
              "        text-align: right;\n",
              "    }\n",
              "</style>\n",
              "<table border=\"1\" class=\"dataframe\">\n",
              "  <thead>\n",
              "    <tr style=\"text-align: right;\">\n",
              "      <th></th>\n",
              "      <th>USA</th>\n",
              "      <th>BRA</th>\n",
              "      <th>DEU</th>\n",
              "      <th>IND</th>\n",
              "    </tr>\n",
              "    <tr>\n",
              "      <th>YEAR</th>\n",
              "      <th></th>\n",
              "      <th></th>\n",
              "      <th></th>\n",
              "      <th></th>\n",
              "    </tr>\n",
              "  </thead>\n",
              "  <tbody>\n",
              "    <tr>\n",
              "      <th>2000-12-31</th>\n",
              "      <td>105.54</td>\n",
              "      <td>183.89</td>\n",
              "      <td>4.3</td>\n",
              "      <td>2.9</td>\n",
              "    </tr>\n",
              "    <tr>\n",
              "      <th>2001-12-31</th>\n",
              "      <td>115.71</td>\n",
              "      <td>197.59</td>\n",
              "      <td>5.4</td>\n",
              "      <td>3.0</td>\n",
              "    </tr>\n",
              "    <tr>\n",
              "      <th>2002-12-31</th>\n",
              "      <td>140.29</td>\n",
              "      <td>216.93</td>\n",
              "      <td>8.8</td>\n",
              "      <td>3.2</td>\n",
              "    </tr>\n",
              "    <tr>\n",
              "      <th>2003-12-31</th>\n",
              "      <td>183.87</td>\n",
              "      <td>249.35</td>\n",
              "      <td>14.0</td>\n",
              "      <td>3.3</td>\n",
              "    </tr>\n",
              "    <tr>\n",
              "      <th>2004-12-31</th>\n",
              "      <td>223.29</td>\n",
              "      <td>251.72</td>\n",
              "      <td>20.4</td>\n",
              "      <td>3.5</td>\n",
              "    </tr>\n",
              "    <tr>\n",
              "      <th>2005-12-31</th>\n",
              "      <td>260.61</td>\n",
              "      <td>276.42</td>\n",
              "      <td>35.8</td>\n",
              "      <td>3.9</td>\n",
              "    </tr>\n",
              "    <tr>\n",
              "      <th>2006-12-31</th>\n",
              "      <td>334.95</td>\n",
              "      <td>307.31</td>\n",
              "      <td>59.4</td>\n",
              "      <td>4.5</td>\n",
              "    </tr>\n",
              "    <tr>\n",
              "      <th>2007-12-31</th>\n",
              "      <td>457.33</td>\n",
              "      <td>395.68</td>\n",
              "      <td>63.8</td>\n",
              "      <td>4.7</td>\n",
              "    </tr>\n",
              "    <tr>\n",
              "      <th>2008-12-31</th>\n",
              "      <td>649.68</td>\n",
              "      <td>486.35</td>\n",
              "      <td>65.0</td>\n",
              "      <td>5.2</td>\n",
              "    </tr>\n",
              "    <tr>\n",
              "      <th>2009-12-31</th>\n",
              "      <td>746.52</td>\n",
              "      <td>477.53</td>\n",
              "      <td>58.0</td>\n",
              "      <td>7.0</td>\n",
              "    </tr>\n",
              "    <tr>\n",
              "      <th>2010-12-31</th>\n",
              "      <td>887.62</td>\n",
              "      <td>527.32</td>\n",
              "      <td>62.0</td>\n",
              "      <td>7.0</td>\n",
              "    </tr>\n",
              "  </tbody>\n",
              "</table>\n",
              "</div>"
            ],
            "text/plain": [
              "               USA     BRA   DEU  IND\n",
              "YEAR                                 \n",
              "2000-12-31  105.54  183.89   4.3  2.9\n",
              "2001-12-31  115.71  197.59   5.4  3.0\n",
              "2002-12-31  140.29  216.93   8.8  3.2\n",
              "2003-12-31  183.87  249.35  14.0  3.3\n",
              "2004-12-31  223.29  251.72  20.4  3.5\n",
              "2005-12-31  260.61  276.42  35.8  3.9\n",
              "2006-12-31  334.95  307.31  59.4  4.5\n",
              "2007-12-31  457.33  395.68  63.8  4.7\n",
              "2008-12-31  649.68  486.35  65.0  5.2\n",
              "2009-12-31  746.52  477.53  58.0  7.0\n",
              "2010-12-31  887.62  527.32  62.0  7.0"
            ]
          },
          "metadata": {
            "tags": []
          },
          "execution_count": 2
        }
      ]
    },
    {
      "cell_type": "code",
      "metadata": {
        "id": "bjWrrV6BkGY1",
        "colab_type": "code",
        "colab": {}
      },
      "source": [
        "df.describe()"
      ],
      "execution_count": 0,
      "outputs": []
    },
    {
      "cell_type": "code",
      "metadata": {
        "id": "gNL1mG79jycw",
        "colab_type": "code",
        "colab": {
          "base_uri": "https://localhost:8080/",
          "height": 102
        },
        "outputId": "63357e3c-dcce-4b74-b180-d3ac038e796c"
      },
      "source": [
        "df.sum()"
      ],
      "execution_count": 3,
      "outputs": [
        {
          "output_type": "execute_result",
          "data": {
            "text/plain": [
              "USA    4105.41\n",
              "BRA    3570.09\n",
              "DEU     396.90\n",
              "IND      48.20\n",
              "dtype: float64"
            ]
          },
          "metadata": {
            "tags": []
          },
          "execution_count": 3
        }
      ]
    },
    {
      "cell_type": "code",
      "metadata": {
        "id": "FnGfRpMwj0gP",
        "colab_type": "code",
        "colab": {
          "base_uri": "https://localhost:8080/",
          "height": 34
        },
        "outputId": "ddc039de-b5f3-487d-9a8c-04a69c5dea13"
      },
      "source": [
        "print(\"{:,.2f}\".format(df.sum().sum()))"
      ],
      "execution_count": 4,
      "outputs": [
        {
          "output_type": "stream",
          "text": [
            "8,120.60\n"
          ],
          "name": "stdout"
        }
      ]
    },
    {
      "cell_type": "code",
      "metadata": {
        "id": "Up6_vYLtj2Hb",
        "colab_type": "code",
        "colab": {
          "base_uri": "https://localhost:8080/",
          "height": 237
        },
        "outputId": "d6c6a05c-ac5a-42ea-ac80-69a6fcdae571"
      },
      "source": [
        "df.sum(axis=1)"
      ],
      "execution_count": 5,
      "outputs": [
        {
          "output_type": "execute_result",
          "data": {
            "text/plain": [
              "YEAR\n",
              "2000-12-31     296.63\n",
              "2001-12-31     321.70\n",
              "2002-12-31     369.22\n",
              "2003-12-31     450.52\n",
              "2004-12-31     498.91\n",
              "2005-12-31     576.73\n",
              "2006-12-31     706.16\n",
              "2007-12-31     921.51\n",
              "2008-12-31    1206.23\n",
              "2009-12-31    1289.05\n",
              "2010-12-31    1483.94\n",
              "dtype: float64"
            ]
          },
          "metadata": {
            "tags": []
          },
          "execution_count": 5
        }
      ]
    },
    {
      "cell_type": "markdown",
      "metadata": {
        "id": "HOE2H2wdj5dG",
        "colab_type": "text"
      },
      "source": [
        ""
      ]
    },
    {
      "cell_type": "code",
      "metadata": {
        "id": "-2Nbu-u3j4EO",
        "colab_type": "code",
        "colab": {
          "base_uri": "https://localhost:8080/",
          "height": 169
        },
        "outputId": "6b02418b-d42c-4b49-865f-f46893eab1a0"
      },
      "source": [
        "df.T"
      ],
      "execution_count": 6,
      "outputs": [
        {
          "output_type": "execute_result",
          "data": {
            "text/html": [
              "<div>\n",
              "<style scoped>\n",
              "    .dataframe tbody tr th:only-of-type {\n",
              "        vertical-align: middle;\n",
              "    }\n",
              "\n",
              "    .dataframe tbody tr th {\n",
              "        vertical-align: top;\n",
              "    }\n",
              "\n",
              "    .dataframe thead th {\n",
              "        text-align: right;\n",
              "    }\n",
              "</style>\n",
              "<table border=\"1\" class=\"dataframe\">\n",
              "  <thead>\n",
              "    <tr style=\"text-align: right;\">\n",
              "      <th>YEAR</th>\n",
              "      <th>2000-12-31</th>\n",
              "      <th>2001-12-31</th>\n",
              "      <th>2002-12-31</th>\n",
              "      <th>2003-12-31</th>\n",
              "      <th>2004-12-31</th>\n",
              "      <th>2005-12-31</th>\n",
              "      <th>2006-12-31</th>\n",
              "      <th>2007-12-31</th>\n",
              "      <th>2008-12-31</th>\n",
              "      <th>2009-12-31</th>\n",
              "      <th>2010-12-31</th>\n",
              "    </tr>\n",
              "  </thead>\n",
              "  <tbody>\n",
              "    <tr>\n",
              "      <th>USA</th>\n",
              "      <td>105.54</td>\n",
              "      <td>115.71</td>\n",
              "      <td>140.29</td>\n",
              "      <td>183.87</td>\n",
              "      <td>223.29</td>\n",
              "      <td>260.61</td>\n",
              "      <td>334.95</td>\n",
              "      <td>457.33</td>\n",
              "      <td>649.68</td>\n",
              "      <td>746.52</td>\n",
              "      <td>887.62</td>\n",
              "    </tr>\n",
              "    <tr>\n",
              "      <th>BRA</th>\n",
              "      <td>183.89</td>\n",
              "      <td>197.59</td>\n",
              "      <td>216.93</td>\n",
              "      <td>249.35</td>\n",
              "      <td>251.72</td>\n",
              "      <td>276.42</td>\n",
              "      <td>307.31</td>\n",
              "      <td>395.68</td>\n",
              "      <td>486.35</td>\n",
              "      <td>477.53</td>\n",
              "      <td>527.32</td>\n",
              "    </tr>\n",
              "    <tr>\n",
              "      <th>DEU</th>\n",
              "      <td>4.30</td>\n",
              "      <td>5.40</td>\n",
              "      <td>8.80</td>\n",
              "      <td>14.00</td>\n",
              "      <td>20.40</td>\n",
              "      <td>35.80</td>\n",
              "      <td>59.40</td>\n",
              "      <td>63.80</td>\n",
              "      <td>65.00</td>\n",
              "      <td>58.00</td>\n",
              "      <td>62.00</td>\n",
              "    </tr>\n",
              "    <tr>\n",
              "      <th>IND</th>\n",
              "      <td>2.90</td>\n",
              "      <td>3.00</td>\n",
              "      <td>3.20</td>\n",
              "      <td>3.30</td>\n",
              "      <td>3.50</td>\n",
              "      <td>3.90</td>\n",
              "      <td>4.50</td>\n",
              "      <td>4.70</td>\n",
              "      <td>5.20</td>\n",
              "      <td>7.00</td>\n",
              "      <td>7.00</td>\n",
              "    </tr>\n",
              "  </tbody>\n",
              "</table>\n",
              "</div>"
            ],
            "text/plain": [
              "YEAR  2000-12-31  2001-12-31  2002-12-31  ...  2008-12-31  2009-12-31  2010-12-31\n",
              "USA       105.54      115.71      140.29  ...      649.68      746.52      887.62\n",
              "BRA       183.89      197.59      216.93  ...      486.35      477.53      527.32\n",
              "DEU         4.30        5.40        8.80  ...       65.00       58.00       62.00\n",
              "IND         2.90        3.00        3.20  ...        5.20        7.00        7.00\n",
              "\n",
              "[4 rows x 11 columns]"
            ]
          },
          "metadata": {
            "tags": []
          },
          "execution_count": 6
        }
      ]
    },
    {
      "cell_type": "markdown",
      "metadata": {
        "id": "d_c6F91OkQw_",
        "colab_type": "text"
      },
      "source": [
        ""
      ]
    },
    {
      "cell_type": "code",
      "metadata": {
        "id": "hLj6AEUIkPh2",
        "colab_type": "code",
        "colab": {
          "base_uri": "https://localhost:8080/",
          "height": 279
        },
        "outputId": "eed7030d-e390-4f57-9494-cca9af28b937"
      },
      "source": [
        "df.style.highlight_max().format(\"{:,.4f}\")"
      ],
      "execution_count": 9,
      "outputs": [
        {
          "output_type": "execute_result",
          "data": {
            "text/html": [
              "<style  type=\"text/css\" >\n",
              "    #T_496531c6_7ac5_11ea_9194_0242ac1c0002row8_col2 {\n",
              "            background-color:  yellow;\n",
              "        }    #T_496531c6_7ac5_11ea_9194_0242ac1c0002row9_col3 {\n",
              "            background-color:  yellow;\n",
              "        }    #T_496531c6_7ac5_11ea_9194_0242ac1c0002row10_col0 {\n",
              "            background-color:  yellow;\n",
              "        }    #T_496531c6_7ac5_11ea_9194_0242ac1c0002row10_col1 {\n",
              "            background-color:  yellow;\n",
              "        }    #T_496531c6_7ac5_11ea_9194_0242ac1c0002row10_col3 {\n",
              "            background-color:  yellow;\n",
              "        }</style><table id=\"T_496531c6_7ac5_11ea_9194_0242ac1c0002\" ><thead>    <tr>        <th class=\"blank level0\" ></th>        <th class=\"col_heading level0 col0\" >USA</th>        <th class=\"col_heading level0 col1\" >BRA</th>        <th class=\"col_heading level0 col2\" >DEU</th>        <th class=\"col_heading level0 col3\" >IND</th>    </tr>    <tr>        <th class=\"index_name level0\" >YEAR</th>        <th class=\"blank\" ></th>        <th class=\"blank\" ></th>        <th class=\"blank\" ></th>        <th class=\"blank\" ></th>    </tr></thead><tbody>\n",
              "                <tr>\n",
              "                        <th id=\"T_496531c6_7ac5_11ea_9194_0242ac1c0002level0_row0\" class=\"row_heading level0 row0\" >2000-12-31 00:00:00</th>\n",
              "                        <td id=\"T_496531c6_7ac5_11ea_9194_0242ac1c0002row0_col0\" class=\"data row0 col0\" >105.5400</td>\n",
              "                        <td id=\"T_496531c6_7ac5_11ea_9194_0242ac1c0002row0_col1\" class=\"data row0 col1\" >183.8900</td>\n",
              "                        <td id=\"T_496531c6_7ac5_11ea_9194_0242ac1c0002row0_col2\" class=\"data row0 col2\" >4.3000</td>\n",
              "                        <td id=\"T_496531c6_7ac5_11ea_9194_0242ac1c0002row0_col3\" class=\"data row0 col3\" >2.9000</td>\n",
              "            </tr>\n",
              "            <tr>\n",
              "                        <th id=\"T_496531c6_7ac5_11ea_9194_0242ac1c0002level0_row1\" class=\"row_heading level0 row1\" >2001-12-31 00:00:00</th>\n",
              "                        <td id=\"T_496531c6_7ac5_11ea_9194_0242ac1c0002row1_col0\" class=\"data row1 col0\" >115.7100</td>\n",
              "                        <td id=\"T_496531c6_7ac5_11ea_9194_0242ac1c0002row1_col1\" class=\"data row1 col1\" >197.5900</td>\n",
              "                        <td id=\"T_496531c6_7ac5_11ea_9194_0242ac1c0002row1_col2\" class=\"data row1 col2\" >5.4000</td>\n",
              "                        <td id=\"T_496531c6_7ac5_11ea_9194_0242ac1c0002row1_col3\" class=\"data row1 col3\" >3.0000</td>\n",
              "            </tr>\n",
              "            <tr>\n",
              "                        <th id=\"T_496531c6_7ac5_11ea_9194_0242ac1c0002level0_row2\" class=\"row_heading level0 row2\" >2002-12-31 00:00:00</th>\n",
              "                        <td id=\"T_496531c6_7ac5_11ea_9194_0242ac1c0002row2_col0\" class=\"data row2 col0\" >140.2900</td>\n",
              "                        <td id=\"T_496531c6_7ac5_11ea_9194_0242ac1c0002row2_col1\" class=\"data row2 col1\" >216.9300</td>\n",
              "                        <td id=\"T_496531c6_7ac5_11ea_9194_0242ac1c0002row2_col2\" class=\"data row2 col2\" >8.8000</td>\n",
              "                        <td id=\"T_496531c6_7ac5_11ea_9194_0242ac1c0002row2_col3\" class=\"data row2 col3\" >3.2000</td>\n",
              "            </tr>\n",
              "            <tr>\n",
              "                        <th id=\"T_496531c6_7ac5_11ea_9194_0242ac1c0002level0_row3\" class=\"row_heading level0 row3\" >2003-12-31 00:00:00</th>\n",
              "                        <td id=\"T_496531c6_7ac5_11ea_9194_0242ac1c0002row3_col0\" class=\"data row3 col0\" >183.8700</td>\n",
              "                        <td id=\"T_496531c6_7ac5_11ea_9194_0242ac1c0002row3_col1\" class=\"data row3 col1\" >249.3500</td>\n",
              "                        <td id=\"T_496531c6_7ac5_11ea_9194_0242ac1c0002row3_col2\" class=\"data row3 col2\" >14.0000</td>\n",
              "                        <td id=\"T_496531c6_7ac5_11ea_9194_0242ac1c0002row3_col3\" class=\"data row3 col3\" >3.3000</td>\n",
              "            </tr>\n",
              "            <tr>\n",
              "                        <th id=\"T_496531c6_7ac5_11ea_9194_0242ac1c0002level0_row4\" class=\"row_heading level0 row4\" >2004-12-31 00:00:00</th>\n",
              "                        <td id=\"T_496531c6_7ac5_11ea_9194_0242ac1c0002row4_col0\" class=\"data row4 col0\" >223.2900</td>\n",
              "                        <td id=\"T_496531c6_7ac5_11ea_9194_0242ac1c0002row4_col1\" class=\"data row4 col1\" >251.7200</td>\n",
              "                        <td id=\"T_496531c6_7ac5_11ea_9194_0242ac1c0002row4_col2\" class=\"data row4 col2\" >20.4000</td>\n",
              "                        <td id=\"T_496531c6_7ac5_11ea_9194_0242ac1c0002row4_col3\" class=\"data row4 col3\" >3.5000</td>\n",
              "            </tr>\n",
              "            <tr>\n",
              "                        <th id=\"T_496531c6_7ac5_11ea_9194_0242ac1c0002level0_row5\" class=\"row_heading level0 row5\" >2005-12-31 00:00:00</th>\n",
              "                        <td id=\"T_496531c6_7ac5_11ea_9194_0242ac1c0002row5_col0\" class=\"data row5 col0\" >260.6100</td>\n",
              "                        <td id=\"T_496531c6_7ac5_11ea_9194_0242ac1c0002row5_col1\" class=\"data row5 col1\" >276.4200</td>\n",
              "                        <td id=\"T_496531c6_7ac5_11ea_9194_0242ac1c0002row5_col2\" class=\"data row5 col2\" >35.8000</td>\n",
              "                        <td id=\"T_496531c6_7ac5_11ea_9194_0242ac1c0002row5_col3\" class=\"data row5 col3\" >3.9000</td>\n",
              "            </tr>\n",
              "            <tr>\n",
              "                        <th id=\"T_496531c6_7ac5_11ea_9194_0242ac1c0002level0_row6\" class=\"row_heading level0 row6\" >2006-12-31 00:00:00</th>\n",
              "                        <td id=\"T_496531c6_7ac5_11ea_9194_0242ac1c0002row6_col0\" class=\"data row6 col0\" >334.9500</td>\n",
              "                        <td id=\"T_496531c6_7ac5_11ea_9194_0242ac1c0002row6_col1\" class=\"data row6 col1\" >307.3100</td>\n",
              "                        <td id=\"T_496531c6_7ac5_11ea_9194_0242ac1c0002row6_col2\" class=\"data row6 col2\" >59.4000</td>\n",
              "                        <td id=\"T_496531c6_7ac5_11ea_9194_0242ac1c0002row6_col3\" class=\"data row6 col3\" >4.5000</td>\n",
              "            </tr>\n",
              "            <tr>\n",
              "                        <th id=\"T_496531c6_7ac5_11ea_9194_0242ac1c0002level0_row7\" class=\"row_heading level0 row7\" >2007-12-31 00:00:00</th>\n",
              "                        <td id=\"T_496531c6_7ac5_11ea_9194_0242ac1c0002row7_col0\" class=\"data row7 col0\" >457.3300</td>\n",
              "                        <td id=\"T_496531c6_7ac5_11ea_9194_0242ac1c0002row7_col1\" class=\"data row7 col1\" >395.6800</td>\n",
              "                        <td id=\"T_496531c6_7ac5_11ea_9194_0242ac1c0002row7_col2\" class=\"data row7 col2\" >63.8000</td>\n",
              "                        <td id=\"T_496531c6_7ac5_11ea_9194_0242ac1c0002row7_col3\" class=\"data row7 col3\" >4.7000</td>\n",
              "            </tr>\n",
              "            <tr>\n",
              "                        <th id=\"T_496531c6_7ac5_11ea_9194_0242ac1c0002level0_row8\" class=\"row_heading level0 row8\" >2008-12-31 00:00:00</th>\n",
              "                        <td id=\"T_496531c6_7ac5_11ea_9194_0242ac1c0002row8_col0\" class=\"data row8 col0\" >649.6800</td>\n",
              "                        <td id=\"T_496531c6_7ac5_11ea_9194_0242ac1c0002row8_col1\" class=\"data row8 col1\" >486.3500</td>\n",
              "                        <td id=\"T_496531c6_7ac5_11ea_9194_0242ac1c0002row8_col2\" class=\"data row8 col2\" >65.0000</td>\n",
              "                        <td id=\"T_496531c6_7ac5_11ea_9194_0242ac1c0002row8_col3\" class=\"data row8 col3\" >5.2000</td>\n",
              "            </tr>\n",
              "            <tr>\n",
              "                        <th id=\"T_496531c6_7ac5_11ea_9194_0242ac1c0002level0_row9\" class=\"row_heading level0 row9\" >2009-12-31 00:00:00</th>\n",
              "                        <td id=\"T_496531c6_7ac5_11ea_9194_0242ac1c0002row9_col0\" class=\"data row9 col0\" >746.5200</td>\n",
              "                        <td id=\"T_496531c6_7ac5_11ea_9194_0242ac1c0002row9_col1\" class=\"data row9 col1\" >477.5300</td>\n",
              "                        <td id=\"T_496531c6_7ac5_11ea_9194_0242ac1c0002row9_col2\" class=\"data row9 col2\" >58.0000</td>\n",
              "                        <td id=\"T_496531c6_7ac5_11ea_9194_0242ac1c0002row9_col3\" class=\"data row9 col3\" >7.0000</td>\n",
              "            </tr>\n",
              "            <tr>\n",
              "                        <th id=\"T_496531c6_7ac5_11ea_9194_0242ac1c0002level0_row10\" class=\"row_heading level0 row10\" >2010-12-31 00:00:00</th>\n",
              "                        <td id=\"T_496531c6_7ac5_11ea_9194_0242ac1c0002row10_col0\" class=\"data row10 col0\" >887.6200</td>\n",
              "                        <td id=\"T_496531c6_7ac5_11ea_9194_0242ac1c0002row10_col1\" class=\"data row10 col1\" >527.3200</td>\n",
              "                        <td id=\"T_496531c6_7ac5_11ea_9194_0242ac1c0002row10_col2\" class=\"data row10 col2\" >62.0000</td>\n",
              "                        <td id=\"T_496531c6_7ac5_11ea_9194_0242ac1c0002row10_col3\" class=\"data row10 col3\" >7.0000</td>\n",
              "            </tr>\n",
              "    </tbody></table>"
            ],
            "text/plain": [
              "<pandas.io.formats.style.Styler at 0x7f46bbfdde80>"
            ]
          },
          "metadata": {
            "tags": []
          },
          "execution_count": 9
        }
      ]
    },
    {
      "cell_type": "code",
      "metadata": {
        "id": "crWf1MOZkPeJ",
        "colab_type": "code",
        "colab": {
          "base_uri": "https://localhost:8080/",
          "height": 279
        },
        "outputId": "f0d8319e-9bfd-4724-d87d-b40a66b66bae"
      },
      "source": [
        "df.style.highlight_max(axis=1).format(\"{:,.4f}\")"
      ],
      "execution_count": 10,
      "outputs": [
        {
          "output_type": "execute_result",
          "data": {
            "text/html": [
              "<style  type=\"text/css\" >\n",
              "    #T_50bc1d86_7ac5_11ea_9194_0242ac1c0002row0_col1 {\n",
              "            background-color:  yellow;\n",
              "        }    #T_50bc1d86_7ac5_11ea_9194_0242ac1c0002row1_col1 {\n",
              "            background-color:  yellow;\n",
              "        }    #T_50bc1d86_7ac5_11ea_9194_0242ac1c0002row2_col1 {\n",
              "            background-color:  yellow;\n",
              "        }    #T_50bc1d86_7ac5_11ea_9194_0242ac1c0002row3_col1 {\n",
              "            background-color:  yellow;\n",
              "        }    #T_50bc1d86_7ac5_11ea_9194_0242ac1c0002row4_col1 {\n",
              "            background-color:  yellow;\n",
              "        }    #T_50bc1d86_7ac5_11ea_9194_0242ac1c0002row5_col1 {\n",
              "            background-color:  yellow;\n",
              "        }    #T_50bc1d86_7ac5_11ea_9194_0242ac1c0002row6_col0 {\n",
              "            background-color:  yellow;\n",
              "        }    #T_50bc1d86_7ac5_11ea_9194_0242ac1c0002row7_col0 {\n",
              "            background-color:  yellow;\n",
              "        }    #T_50bc1d86_7ac5_11ea_9194_0242ac1c0002row8_col0 {\n",
              "            background-color:  yellow;\n",
              "        }    #T_50bc1d86_7ac5_11ea_9194_0242ac1c0002row9_col0 {\n",
              "            background-color:  yellow;\n",
              "        }    #T_50bc1d86_7ac5_11ea_9194_0242ac1c0002row10_col0 {\n",
              "            background-color:  yellow;\n",
              "        }</style><table id=\"T_50bc1d86_7ac5_11ea_9194_0242ac1c0002\" ><thead>    <tr>        <th class=\"blank level0\" ></th>        <th class=\"col_heading level0 col0\" >USA</th>        <th class=\"col_heading level0 col1\" >BRA</th>        <th class=\"col_heading level0 col2\" >DEU</th>        <th class=\"col_heading level0 col3\" >IND</th>    </tr>    <tr>        <th class=\"index_name level0\" >YEAR</th>        <th class=\"blank\" ></th>        <th class=\"blank\" ></th>        <th class=\"blank\" ></th>        <th class=\"blank\" ></th>    </tr></thead><tbody>\n",
              "                <tr>\n",
              "                        <th id=\"T_50bc1d86_7ac5_11ea_9194_0242ac1c0002level0_row0\" class=\"row_heading level0 row0\" >2000-12-31 00:00:00</th>\n",
              "                        <td id=\"T_50bc1d86_7ac5_11ea_9194_0242ac1c0002row0_col0\" class=\"data row0 col0\" >105.5400</td>\n",
              "                        <td id=\"T_50bc1d86_7ac5_11ea_9194_0242ac1c0002row0_col1\" class=\"data row0 col1\" >183.8900</td>\n",
              "                        <td id=\"T_50bc1d86_7ac5_11ea_9194_0242ac1c0002row0_col2\" class=\"data row0 col2\" >4.3000</td>\n",
              "                        <td id=\"T_50bc1d86_7ac5_11ea_9194_0242ac1c0002row0_col3\" class=\"data row0 col3\" >2.9000</td>\n",
              "            </tr>\n",
              "            <tr>\n",
              "                        <th id=\"T_50bc1d86_7ac5_11ea_9194_0242ac1c0002level0_row1\" class=\"row_heading level0 row1\" >2001-12-31 00:00:00</th>\n",
              "                        <td id=\"T_50bc1d86_7ac5_11ea_9194_0242ac1c0002row1_col0\" class=\"data row1 col0\" >115.7100</td>\n",
              "                        <td id=\"T_50bc1d86_7ac5_11ea_9194_0242ac1c0002row1_col1\" class=\"data row1 col1\" >197.5900</td>\n",
              "                        <td id=\"T_50bc1d86_7ac5_11ea_9194_0242ac1c0002row1_col2\" class=\"data row1 col2\" >5.4000</td>\n",
              "                        <td id=\"T_50bc1d86_7ac5_11ea_9194_0242ac1c0002row1_col3\" class=\"data row1 col3\" >3.0000</td>\n",
              "            </tr>\n",
              "            <tr>\n",
              "                        <th id=\"T_50bc1d86_7ac5_11ea_9194_0242ac1c0002level0_row2\" class=\"row_heading level0 row2\" >2002-12-31 00:00:00</th>\n",
              "                        <td id=\"T_50bc1d86_7ac5_11ea_9194_0242ac1c0002row2_col0\" class=\"data row2 col0\" >140.2900</td>\n",
              "                        <td id=\"T_50bc1d86_7ac5_11ea_9194_0242ac1c0002row2_col1\" class=\"data row2 col1\" >216.9300</td>\n",
              "                        <td id=\"T_50bc1d86_7ac5_11ea_9194_0242ac1c0002row2_col2\" class=\"data row2 col2\" >8.8000</td>\n",
              "                        <td id=\"T_50bc1d86_7ac5_11ea_9194_0242ac1c0002row2_col3\" class=\"data row2 col3\" >3.2000</td>\n",
              "            </tr>\n",
              "            <tr>\n",
              "                        <th id=\"T_50bc1d86_7ac5_11ea_9194_0242ac1c0002level0_row3\" class=\"row_heading level0 row3\" >2003-12-31 00:00:00</th>\n",
              "                        <td id=\"T_50bc1d86_7ac5_11ea_9194_0242ac1c0002row3_col0\" class=\"data row3 col0\" >183.8700</td>\n",
              "                        <td id=\"T_50bc1d86_7ac5_11ea_9194_0242ac1c0002row3_col1\" class=\"data row3 col1\" >249.3500</td>\n",
              "                        <td id=\"T_50bc1d86_7ac5_11ea_9194_0242ac1c0002row3_col2\" class=\"data row3 col2\" >14.0000</td>\n",
              "                        <td id=\"T_50bc1d86_7ac5_11ea_9194_0242ac1c0002row3_col3\" class=\"data row3 col3\" >3.3000</td>\n",
              "            </tr>\n",
              "            <tr>\n",
              "                        <th id=\"T_50bc1d86_7ac5_11ea_9194_0242ac1c0002level0_row4\" class=\"row_heading level0 row4\" >2004-12-31 00:00:00</th>\n",
              "                        <td id=\"T_50bc1d86_7ac5_11ea_9194_0242ac1c0002row4_col0\" class=\"data row4 col0\" >223.2900</td>\n",
              "                        <td id=\"T_50bc1d86_7ac5_11ea_9194_0242ac1c0002row4_col1\" class=\"data row4 col1\" >251.7200</td>\n",
              "                        <td id=\"T_50bc1d86_7ac5_11ea_9194_0242ac1c0002row4_col2\" class=\"data row4 col2\" >20.4000</td>\n",
              "                        <td id=\"T_50bc1d86_7ac5_11ea_9194_0242ac1c0002row4_col3\" class=\"data row4 col3\" >3.5000</td>\n",
              "            </tr>\n",
              "            <tr>\n",
              "                        <th id=\"T_50bc1d86_7ac5_11ea_9194_0242ac1c0002level0_row5\" class=\"row_heading level0 row5\" >2005-12-31 00:00:00</th>\n",
              "                        <td id=\"T_50bc1d86_7ac5_11ea_9194_0242ac1c0002row5_col0\" class=\"data row5 col0\" >260.6100</td>\n",
              "                        <td id=\"T_50bc1d86_7ac5_11ea_9194_0242ac1c0002row5_col1\" class=\"data row5 col1\" >276.4200</td>\n",
              "                        <td id=\"T_50bc1d86_7ac5_11ea_9194_0242ac1c0002row5_col2\" class=\"data row5 col2\" >35.8000</td>\n",
              "                        <td id=\"T_50bc1d86_7ac5_11ea_9194_0242ac1c0002row5_col3\" class=\"data row5 col3\" >3.9000</td>\n",
              "            </tr>\n",
              "            <tr>\n",
              "                        <th id=\"T_50bc1d86_7ac5_11ea_9194_0242ac1c0002level0_row6\" class=\"row_heading level0 row6\" >2006-12-31 00:00:00</th>\n",
              "                        <td id=\"T_50bc1d86_7ac5_11ea_9194_0242ac1c0002row6_col0\" class=\"data row6 col0\" >334.9500</td>\n",
              "                        <td id=\"T_50bc1d86_7ac5_11ea_9194_0242ac1c0002row6_col1\" class=\"data row6 col1\" >307.3100</td>\n",
              "                        <td id=\"T_50bc1d86_7ac5_11ea_9194_0242ac1c0002row6_col2\" class=\"data row6 col2\" >59.4000</td>\n",
              "                        <td id=\"T_50bc1d86_7ac5_11ea_9194_0242ac1c0002row6_col3\" class=\"data row6 col3\" >4.5000</td>\n",
              "            </tr>\n",
              "            <tr>\n",
              "                        <th id=\"T_50bc1d86_7ac5_11ea_9194_0242ac1c0002level0_row7\" class=\"row_heading level0 row7\" >2007-12-31 00:00:00</th>\n",
              "                        <td id=\"T_50bc1d86_7ac5_11ea_9194_0242ac1c0002row7_col0\" class=\"data row7 col0\" >457.3300</td>\n",
              "                        <td id=\"T_50bc1d86_7ac5_11ea_9194_0242ac1c0002row7_col1\" class=\"data row7 col1\" >395.6800</td>\n",
              "                        <td id=\"T_50bc1d86_7ac5_11ea_9194_0242ac1c0002row7_col2\" class=\"data row7 col2\" >63.8000</td>\n",
              "                        <td id=\"T_50bc1d86_7ac5_11ea_9194_0242ac1c0002row7_col3\" class=\"data row7 col3\" >4.7000</td>\n",
              "            </tr>\n",
              "            <tr>\n",
              "                        <th id=\"T_50bc1d86_7ac5_11ea_9194_0242ac1c0002level0_row8\" class=\"row_heading level0 row8\" >2008-12-31 00:00:00</th>\n",
              "                        <td id=\"T_50bc1d86_7ac5_11ea_9194_0242ac1c0002row8_col0\" class=\"data row8 col0\" >649.6800</td>\n",
              "                        <td id=\"T_50bc1d86_7ac5_11ea_9194_0242ac1c0002row8_col1\" class=\"data row8 col1\" >486.3500</td>\n",
              "                        <td id=\"T_50bc1d86_7ac5_11ea_9194_0242ac1c0002row8_col2\" class=\"data row8 col2\" >65.0000</td>\n",
              "                        <td id=\"T_50bc1d86_7ac5_11ea_9194_0242ac1c0002row8_col3\" class=\"data row8 col3\" >5.2000</td>\n",
              "            </tr>\n",
              "            <tr>\n",
              "                        <th id=\"T_50bc1d86_7ac5_11ea_9194_0242ac1c0002level0_row9\" class=\"row_heading level0 row9\" >2009-12-31 00:00:00</th>\n",
              "                        <td id=\"T_50bc1d86_7ac5_11ea_9194_0242ac1c0002row9_col0\" class=\"data row9 col0\" >746.5200</td>\n",
              "                        <td id=\"T_50bc1d86_7ac5_11ea_9194_0242ac1c0002row9_col1\" class=\"data row9 col1\" >477.5300</td>\n",
              "                        <td id=\"T_50bc1d86_7ac5_11ea_9194_0242ac1c0002row9_col2\" class=\"data row9 col2\" >58.0000</td>\n",
              "                        <td id=\"T_50bc1d86_7ac5_11ea_9194_0242ac1c0002row9_col3\" class=\"data row9 col3\" >7.0000</td>\n",
              "            </tr>\n",
              "            <tr>\n",
              "                        <th id=\"T_50bc1d86_7ac5_11ea_9194_0242ac1c0002level0_row10\" class=\"row_heading level0 row10\" >2010-12-31 00:00:00</th>\n",
              "                        <td id=\"T_50bc1d86_7ac5_11ea_9194_0242ac1c0002row10_col0\" class=\"data row10 col0\" >887.6200</td>\n",
              "                        <td id=\"T_50bc1d86_7ac5_11ea_9194_0242ac1c0002row10_col1\" class=\"data row10 col1\" >527.3200</td>\n",
              "                        <td id=\"T_50bc1d86_7ac5_11ea_9194_0242ac1c0002row10_col2\" class=\"data row10 col2\" >62.0000</td>\n",
              "                        <td id=\"T_50bc1d86_7ac5_11ea_9194_0242ac1c0002row10_col3\" class=\"data row10 col3\" >7.0000</td>\n",
              "            </tr>\n",
              "    </tbody></table>"
            ],
            "text/plain": [
              "<pandas.io.formats.style.Styler at 0x7f46bbbecb38>"
            ]
          },
          "metadata": {
            "tags": []
          },
          "execution_count": 10
        }
      ]
    },
    {
      "cell_type": "code",
      "metadata": {
        "id": "lUJ62gYvkPbX",
        "colab_type": "code",
        "colab": {
          "base_uri": "https://localhost:8080/",
          "height": 279
        },
        "outputId": "c25b3428-bf3e-495d-8da6-f422f9a785f0"
      },
      "source": [
        "df.style.highlight_max(color='lime').highlight_min(color='pink').format(\"{:,.4f}\")"
      ],
      "execution_count": 11,
      "outputs": [
        {
          "output_type": "execute_result",
          "data": {
            "text/html": [
              "<style  type=\"text/css\" >\n",
              "    #T_56e0009c_7ac5_11ea_9194_0242ac1c0002row0_col0 {\n",
              "            : ;\n",
              "            background-color:  pink;\n",
              "        }    #T_56e0009c_7ac5_11ea_9194_0242ac1c0002row0_col1 {\n",
              "            : ;\n",
              "            background-color:  pink;\n",
              "        }    #T_56e0009c_7ac5_11ea_9194_0242ac1c0002row0_col2 {\n",
              "            : ;\n",
              "            background-color:  pink;\n",
              "        }    #T_56e0009c_7ac5_11ea_9194_0242ac1c0002row0_col3 {\n",
              "            : ;\n",
              "            background-color:  pink;\n",
              "        }    #T_56e0009c_7ac5_11ea_9194_0242ac1c0002row8_col2 {\n",
              "            background-color:  lime;\n",
              "            : ;\n",
              "        }    #T_56e0009c_7ac5_11ea_9194_0242ac1c0002row9_col3 {\n",
              "            background-color:  lime;\n",
              "            : ;\n",
              "        }    #T_56e0009c_7ac5_11ea_9194_0242ac1c0002row10_col0 {\n",
              "            background-color:  lime;\n",
              "            : ;\n",
              "        }    #T_56e0009c_7ac5_11ea_9194_0242ac1c0002row10_col1 {\n",
              "            background-color:  lime;\n",
              "            : ;\n",
              "        }    #T_56e0009c_7ac5_11ea_9194_0242ac1c0002row10_col3 {\n",
              "            background-color:  lime;\n",
              "            : ;\n",
              "        }</style><table id=\"T_56e0009c_7ac5_11ea_9194_0242ac1c0002\" ><thead>    <tr>        <th class=\"blank level0\" ></th>        <th class=\"col_heading level0 col0\" >USA</th>        <th class=\"col_heading level0 col1\" >BRA</th>        <th class=\"col_heading level0 col2\" >DEU</th>        <th class=\"col_heading level0 col3\" >IND</th>    </tr>    <tr>        <th class=\"index_name level0\" >YEAR</th>        <th class=\"blank\" ></th>        <th class=\"blank\" ></th>        <th class=\"blank\" ></th>        <th class=\"blank\" ></th>    </tr></thead><tbody>\n",
              "                <tr>\n",
              "                        <th id=\"T_56e0009c_7ac5_11ea_9194_0242ac1c0002level0_row0\" class=\"row_heading level0 row0\" >2000-12-31 00:00:00</th>\n",
              "                        <td id=\"T_56e0009c_7ac5_11ea_9194_0242ac1c0002row0_col0\" class=\"data row0 col0\" >105.5400</td>\n",
              "                        <td id=\"T_56e0009c_7ac5_11ea_9194_0242ac1c0002row0_col1\" class=\"data row0 col1\" >183.8900</td>\n",
              "                        <td id=\"T_56e0009c_7ac5_11ea_9194_0242ac1c0002row0_col2\" class=\"data row0 col2\" >4.3000</td>\n",
              "                        <td id=\"T_56e0009c_7ac5_11ea_9194_0242ac1c0002row0_col3\" class=\"data row0 col3\" >2.9000</td>\n",
              "            </tr>\n",
              "            <tr>\n",
              "                        <th id=\"T_56e0009c_7ac5_11ea_9194_0242ac1c0002level0_row1\" class=\"row_heading level0 row1\" >2001-12-31 00:00:00</th>\n",
              "                        <td id=\"T_56e0009c_7ac5_11ea_9194_0242ac1c0002row1_col0\" class=\"data row1 col0\" >115.7100</td>\n",
              "                        <td id=\"T_56e0009c_7ac5_11ea_9194_0242ac1c0002row1_col1\" class=\"data row1 col1\" >197.5900</td>\n",
              "                        <td id=\"T_56e0009c_7ac5_11ea_9194_0242ac1c0002row1_col2\" class=\"data row1 col2\" >5.4000</td>\n",
              "                        <td id=\"T_56e0009c_7ac5_11ea_9194_0242ac1c0002row1_col3\" class=\"data row1 col3\" >3.0000</td>\n",
              "            </tr>\n",
              "            <tr>\n",
              "                        <th id=\"T_56e0009c_7ac5_11ea_9194_0242ac1c0002level0_row2\" class=\"row_heading level0 row2\" >2002-12-31 00:00:00</th>\n",
              "                        <td id=\"T_56e0009c_7ac5_11ea_9194_0242ac1c0002row2_col0\" class=\"data row2 col0\" >140.2900</td>\n",
              "                        <td id=\"T_56e0009c_7ac5_11ea_9194_0242ac1c0002row2_col1\" class=\"data row2 col1\" >216.9300</td>\n",
              "                        <td id=\"T_56e0009c_7ac5_11ea_9194_0242ac1c0002row2_col2\" class=\"data row2 col2\" >8.8000</td>\n",
              "                        <td id=\"T_56e0009c_7ac5_11ea_9194_0242ac1c0002row2_col3\" class=\"data row2 col3\" >3.2000</td>\n",
              "            </tr>\n",
              "            <tr>\n",
              "                        <th id=\"T_56e0009c_7ac5_11ea_9194_0242ac1c0002level0_row3\" class=\"row_heading level0 row3\" >2003-12-31 00:00:00</th>\n",
              "                        <td id=\"T_56e0009c_7ac5_11ea_9194_0242ac1c0002row3_col0\" class=\"data row3 col0\" >183.8700</td>\n",
              "                        <td id=\"T_56e0009c_7ac5_11ea_9194_0242ac1c0002row3_col1\" class=\"data row3 col1\" >249.3500</td>\n",
              "                        <td id=\"T_56e0009c_7ac5_11ea_9194_0242ac1c0002row3_col2\" class=\"data row3 col2\" >14.0000</td>\n",
              "                        <td id=\"T_56e0009c_7ac5_11ea_9194_0242ac1c0002row3_col3\" class=\"data row3 col3\" >3.3000</td>\n",
              "            </tr>\n",
              "            <tr>\n",
              "                        <th id=\"T_56e0009c_7ac5_11ea_9194_0242ac1c0002level0_row4\" class=\"row_heading level0 row4\" >2004-12-31 00:00:00</th>\n",
              "                        <td id=\"T_56e0009c_7ac5_11ea_9194_0242ac1c0002row4_col0\" class=\"data row4 col0\" >223.2900</td>\n",
              "                        <td id=\"T_56e0009c_7ac5_11ea_9194_0242ac1c0002row4_col1\" class=\"data row4 col1\" >251.7200</td>\n",
              "                        <td id=\"T_56e0009c_7ac5_11ea_9194_0242ac1c0002row4_col2\" class=\"data row4 col2\" >20.4000</td>\n",
              "                        <td id=\"T_56e0009c_7ac5_11ea_9194_0242ac1c0002row4_col3\" class=\"data row4 col3\" >3.5000</td>\n",
              "            </tr>\n",
              "            <tr>\n",
              "                        <th id=\"T_56e0009c_7ac5_11ea_9194_0242ac1c0002level0_row5\" class=\"row_heading level0 row5\" >2005-12-31 00:00:00</th>\n",
              "                        <td id=\"T_56e0009c_7ac5_11ea_9194_0242ac1c0002row5_col0\" class=\"data row5 col0\" >260.6100</td>\n",
              "                        <td id=\"T_56e0009c_7ac5_11ea_9194_0242ac1c0002row5_col1\" class=\"data row5 col1\" >276.4200</td>\n",
              "                        <td id=\"T_56e0009c_7ac5_11ea_9194_0242ac1c0002row5_col2\" class=\"data row5 col2\" >35.8000</td>\n",
              "                        <td id=\"T_56e0009c_7ac5_11ea_9194_0242ac1c0002row5_col3\" class=\"data row5 col3\" >3.9000</td>\n",
              "            </tr>\n",
              "            <tr>\n",
              "                        <th id=\"T_56e0009c_7ac5_11ea_9194_0242ac1c0002level0_row6\" class=\"row_heading level0 row6\" >2006-12-31 00:00:00</th>\n",
              "                        <td id=\"T_56e0009c_7ac5_11ea_9194_0242ac1c0002row6_col0\" class=\"data row6 col0\" >334.9500</td>\n",
              "                        <td id=\"T_56e0009c_7ac5_11ea_9194_0242ac1c0002row6_col1\" class=\"data row6 col1\" >307.3100</td>\n",
              "                        <td id=\"T_56e0009c_7ac5_11ea_9194_0242ac1c0002row6_col2\" class=\"data row6 col2\" >59.4000</td>\n",
              "                        <td id=\"T_56e0009c_7ac5_11ea_9194_0242ac1c0002row6_col3\" class=\"data row6 col3\" >4.5000</td>\n",
              "            </tr>\n",
              "            <tr>\n",
              "                        <th id=\"T_56e0009c_7ac5_11ea_9194_0242ac1c0002level0_row7\" class=\"row_heading level0 row7\" >2007-12-31 00:00:00</th>\n",
              "                        <td id=\"T_56e0009c_7ac5_11ea_9194_0242ac1c0002row7_col0\" class=\"data row7 col0\" >457.3300</td>\n",
              "                        <td id=\"T_56e0009c_7ac5_11ea_9194_0242ac1c0002row7_col1\" class=\"data row7 col1\" >395.6800</td>\n",
              "                        <td id=\"T_56e0009c_7ac5_11ea_9194_0242ac1c0002row7_col2\" class=\"data row7 col2\" >63.8000</td>\n",
              "                        <td id=\"T_56e0009c_7ac5_11ea_9194_0242ac1c0002row7_col3\" class=\"data row7 col3\" >4.7000</td>\n",
              "            </tr>\n",
              "            <tr>\n",
              "                        <th id=\"T_56e0009c_7ac5_11ea_9194_0242ac1c0002level0_row8\" class=\"row_heading level0 row8\" >2008-12-31 00:00:00</th>\n",
              "                        <td id=\"T_56e0009c_7ac5_11ea_9194_0242ac1c0002row8_col0\" class=\"data row8 col0\" >649.6800</td>\n",
              "                        <td id=\"T_56e0009c_7ac5_11ea_9194_0242ac1c0002row8_col1\" class=\"data row8 col1\" >486.3500</td>\n",
              "                        <td id=\"T_56e0009c_7ac5_11ea_9194_0242ac1c0002row8_col2\" class=\"data row8 col2\" >65.0000</td>\n",
              "                        <td id=\"T_56e0009c_7ac5_11ea_9194_0242ac1c0002row8_col3\" class=\"data row8 col3\" >5.2000</td>\n",
              "            </tr>\n",
              "            <tr>\n",
              "                        <th id=\"T_56e0009c_7ac5_11ea_9194_0242ac1c0002level0_row9\" class=\"row_heading level0 row9\" >2009-12-31 00:00:00</th>\n",
              "                        <td id=\"T_56e0009c_7ac5_11ea_9194_0242ac1c0002row9_col0\" class=\"data row9 col0\" >746.5200</td>\n",
              "                        <td id=\"T_56e0009c_7ac5_11ea_9194_0242ac1c0002row9_col1\" class=\"data row9 col1\" >477.5300</td>\n",
              "                        <td id=\"T_56e0009c_7ac5_11ea_9194_0242ac1c0002row9_col2\" class=\"data row9 col2\" >58.0000</td>\n",
              "                        <td id=\"T_56e0009c_7ac5_11ea_9194_0242ac1c0002row9_col3\" class=\"data row9 col3\" >7.0000</td>\n",
              "            </tr>\n",
              "            <tr>\n",
              "                        <th id=\"T_56e0009c_7ac5_11ea_9194_0242ac1c0002level0_row10\" class=\"row_heading level0 row10\" >2010-12-31 00:00:00</th>\n",
              "                        <td id=\"T_56e0009c_7ac5_11ea_9194_0242ac1c0002row10_col0\" class=\"data row10 col0\" >887.6200</td>\n",
              "                        <td id=\"T_56e0009c_7ac5_11ea_9194_0242ac1c0002row10_col1\" class=\"data row10 col1\" >527.3200</td>\n",
              "                        <td id=\"T_56e0009c_7ac5_11ea_9194_0242ac1c0002row10_col2\" class=\"data row10 col2\" >62.0000</td>\n",
              "                        <td id=\"T_56e0009c_7ac5_11ea_9194_0242ac1c0002row10_col3\" class=\"data row10 col3\" >7.0000</td>\n",
              "            </tr>\n",
              "    </tbody></table>"
            ],
            "text/plain": [
              "<pandas.io.formats.style.Styler at 0x7f46bbbec7b8>"
            ]
          },
          "metadata": {
            "tags": []
          },
          "execution_count": 11
        }
      ]
    },
    {
      "cell_type": "code",
      "metadata": {
        "id": "pjoRVQMnkPXq",
        "colab_type": "code",
        "colab": {
          "base_uri": "https://localhost:8080/",
          "height": 279
        },
        "outputId": "e925bf5f-707e-4655-fcbd-cbc50afe807e"
      },
      "source": [
        "df.style.background_gradient('Blues').format(\"{:,.4f}\")"
      ],
      "execution_count": 12,
      "outputs": [
        {
          "output_type": "execute_result",
          "data": {
            "text/html": [
              "<style  type=\"text/css\" >\n",
              "    #T_5b5bab9e_7ac5_11ea_9194_0242ac1c0002row0_col0 {\n",
              "            background-color:  #f7fbff;\n",
              "            color:  #000000;\n",
              "        }    #T_5b5bab9e_7ac5_11ea_9194_0242ac1c0002row0_col1 {\n",
              "            background-color:  #f7fbff;\n",
              "            color:  #000000;\n",
              "        }    #T_5b5bab9e_7ac5_11ea_9194_0242ac1c0002row0_col2 {\n",
              "            background-color:  #f7fbff;\n",
              "            color:  #000000;\n",
              "        }    #T_5b5bab9e_7ac5_11ea_9194_0242ac1c0002row0_col3 {\n",
              "            background-color:  #f7fbff;\n",
              "            color:  #000000;\n",
              "        }    #T_5b5bab9e_7ac5_11ea_9194_0242ac1c0002row1_col0 {\n",
              "            background-color:  #f5f9fe;\n",
              "            color:  #000000;\n",
              "        }    #T_5b5bab9e_7ac5_11ea_9194_0242ac1c0002row1_col1 {\n",
              "            background-color:  #eff6fc;\n",
              "            color:  #000000;\n",
              "        }    #T_5b5bab9e_7ac5_11ea_9194_0242ac1c0002row1_col2 {\n",
              "            background-color:  #f4f9fe;\n",
              "            color:  #000000;\n",
              "        }    #T_5b5bab9e_7ac5_11ea_9194_0242ac1c0002row1_col3 {\n",
              "            background-color:  #f2f8fd;\n",
              "            color:  #000000;\n",
              "        }    #T_5b5bab9e_7ac5_11ea_9194_0242ac1c0002row2_col0 {\n",
              "            background-color:  #eef5fc;\n",
              "            color:  #000000;\n",
              "        }    #T_5b5bab9e_7ac5_11ea_9194_0242ac1c0002row2_col1 {\n",
              "            background-color:  #e4eff9;\n",
              "            color:  #000000;\n",
              "        }    #T_5b5bab9e_7ac5_11ea_9194_0242ac1c0002row2_col2 {\n",
              "            background-color:  #e9f2fa;\n",
              "            color:  #000000;\n",
              "        }    #T_5b5bab9e_7ac5_11ea_9194_0242ac1c0002row2_col3 {\n",
              "            background-color:  #e9f2fa;\n",
              "            color:  #000000;\n",
              "        }    #T_5b5bab9e_7ac5_11ea_9194_0242ac1c0002row3_col0 {\n",
              "            background-color:  #e3eef9;\n",
              "            color:  #000000;\n",
              "        }    #T_5b5bab9e_7ac5_11ea_9194_0242ac1c0002row3_col1 {\n",
              "            background-color:  #d2e3f3;\n",
              "            color:  #000000;\n",
              "        }    #T_5b5bab9e_7ac5_11ea_9194_0242ac1c0002row3_col2 {\n",
              "            background-color:  #d8e7f5;\n",
              "            color:  #000000;\n",
              "        }    #T_5b5bab9e_7ac5_11ea_9194_0242ac1c0002row3_col3 {\n",
              "            background-color:  #e4eff9;\n",
              "            color:  #000000;\n",
              "        }    #T_5b5bab9e_7ac5_11ea_9194_0242ac1c0002row4_col0 {\n",
              "            background-color:  #d9e8f5;\n",
              "            color:  #000000;\n",
              "        }    #T_5b5bab9e_7ac5_11ea_9194_0242ac1c0002row4_col1 {\n",
              "            background-color:  #d0e2f2;\n",
              "            color:  #000000;\n",
              "        }    #T_5b5bab9e_7ac5_11ea_9194_0242ac1c0002row4_col2 {\n",
              "            background-color:  #c2d9ee;\n",
              "            color:  #000000;\n",
              "        }    #T_5b5bab9e_7ac5_11ea_9194_0242ac1c0002row4_col3 {\n",
              "            background-color:  #dae8f6;\n",
              "            color:  #000000;\n",
              "        }    #T_5b5bab9e_7ac5_11ea_9194_0242ac1c0002row5_col0 {\n",
              "            background-color:  #d0e2f2;\n",
              "            color:  #000000;\n",
              "        }    #T_5b5bab9e_7ac5_11ea_9194_0242ac1c0002row5_col1 {\n",
              "            background-color:  #c1d9ed;\n",
              "            color:  #000000;\n",
              "        }    #T_5b5bab9e_7ac5_11ea_9194_0242ac1c0002row5_col2 {\n",
              "            background-color:  #65aad4;\n",
              "            color:  #000000;\n",
              "        }    #T_5b5bab9e_7ac5_11ea_9194_0242ac1c0002row5_col3 {\n",
              "            background-color:  #c7dcef;\n",
              "            color:  #000000;\n",
              "        }    #T_5b5bab9e_7ac5_11ea_9194_0242ac1c0002row6_col0 {\n",
              "            background-color:  #b8d5ea;\n",
              "            color:  #000000;\n",
              "        }    #T_5b5bab9e_7ac5_11ea_9194_0242ac1c0002row6_col1 {\n",
              "            background-color:  #a4cce3;\n",
              "            color:  #000000;\n",
              "        }    #T_5b5bab9e_7ac5_11ea_9194_0242ac1c0002row6_col2 {\n",
              "            background-color:  #08488e;\n",
              "            color:  #f1f1f1;\n",
              "        }    #T_5b5bab9e_7ac5_11ea_9194_0242ac1c0002row6_col3 {\n",
              "            background-color:  #99c7e0;\n",
              "            color:  #000000;\n",
              "        }    #T_5b5bab9e_7ac5_11ea_9194_0242ac1c0002row7_col0 {\n",
              "            background-color:  #7fb9da;\n",
              "            color:  #000000;\n",
              "        }    #T_5b5bab9e_7ac5_11ea_9194_0242ac1c0002row7_col1 {\n",
              "            background-color:  #4594c7;\n",
              "            color:  #000000;\n",
              "        }    #T_5b5bab9e_7ac5_11ea_9194_0242ac1c0002row7_col2 {\n",
              "            background-color:  #083573;\n",
              "            color:  #f1f1f1;\n",
              "        }    #T_5b5bab9e_7ac5_11ea_9194_0242ac1c0002row7_col3 {\n",
              "            background-color:  #84bcdb;\n",
              "            color:  #000000;\n",
              "        }    #T_5b5bab9e_7ac5_11ea_9194_0242ac1c0002row8_col0 {\n",
              "            background-color:  #2f7fbc;\n",
              "            color:  #000000;\n",
              "        }    #T_5b5bab9e_7ac5_11ea_9194_0242ac1c0002row8_col1 {\n",
              "            background-color:  #084f99;\n",
              "            color:  #f1f1f1;\n",
              "        }    #T_5b5bab9e_7ac5_11ea_9194_0242ac1c0002row8_col2 {\n",
              "            background-color:  #08306b;\n",
              "            color:  #f1f1f1;\n",
              "        }    #T_5b5bab9e_7ac5_11ea_9194_0242ac1c0002row8_col3 {\n",
              "            background-color:  #57a0ce;\n",
              "            color:  #000000;\n",
              "        }    #T_5b5bab9e_7ac5_11ea_9194_0242ac1c0002row9_col0 {\n",
              "            background-color:  #135fa7;\n",
              "            color:  #f1f1f1;\n",
              "        }    #T_5b5bab9e_7ac5_11ea_9194_0242ac1c0002row9_col1 {\n",
              "            background-color:  #0c56a0;\n",
              "            color:  #f1f1f1;\n",
              "        }    #T_5b5bab9e_7ac5_11ea_9194_0242ac1c0002row9_col2 {\n",
              "            background-color:  #084e98;\n",
              "            color:  #f1f1f1;\n",
              "        }    #T_5b5bab9e_7ac5_11ea_9194_0242ac1c0002row9_col3 {\n",
              "            background-color:  #08306b;\n",
              "            color:  #f1f1f1;\n",
              "        }    #T_5b5bab9e_7ac5_11ea_9194_0242ac1c0002row10_col0 {\n",
              "            background-color:  #08306b;\n",
              "            color:  #f1f1f1;\n",
              "        }    #T_5b5bab9e_7ac5_11ea_9194_0242ac1c0002row10_col1 {\n",
              "            background-color:  #08306b;\n",
              "            color:  #f1f1f1;\n",
              "        }    #T_5b5bab9e_7ac5_11ea_9194_0242ac1c0002row10_col2 {\n",
              "            background-color:  #083c7d;\n",
              "            color:  #f1f1f1;\n",
              "        }    #T_5b5bab9e_7ac5_11ea_9194_0242ac1c0002row10_col3 {\n",
              "            background-color:  #08306b;\n",
              "            color:  #f1f1f1;\n",
              "        }</style><table id=\"T_5b5bab9e_7ac5_11ea_9194_0242ac1c0002\" ><thead>    <tr>        <th class=\"blank level0\" ></th>        <th class=\"col_heading level0 col0\" >USA</th>        <th class=\"col_heading level0 col1\" >BRA</th>        <th class=\"col_heading level0 col2\" >DEU</th>        <th class=\"col_heading level0 col3\" >IND</th>    </tr>    <tr>        <th class=\"index_name level0\" >YEAR</th>        <th class=\"blank\" ></th>        <th class=\"blank\" ></th>        <th class=\"blank\" ></th>        <th class=\"blank\" ></th>    </tr></thead><tbody>\n",
              "                <tr>\n",
              "                        <th id=\"T_5b5bab9e_7ac5_11ea_9194_0242ac1c0002level0_row0\" class=\"row_heading level0 row0\" >2000-12-31 00:00:00</th>\n",
              "                        <td id=\"T_5b5bab9e_7ac5_11ea_9194_0242ac1c0002row0_col0\" class=\"data row0 col0\" >105.5400</td>\n",
              "                        <td id=\"T_5b5bab9e_7ac5_11ea_9194_0242ac1c0002row0_col1\" class=\"data row0 col1\" >183.8900</td>\n",
              "                        <td id=\"T_5b5bab9e_7ac5_11ea_9194_0242ac1c0002row0_col2\" class=\"data row0 col2\" >4.3000</td>\n",
              "                        <td id=\"T_5b5bab9e_7ac5_11ea_9194_0242ac1c0002row0_col3\" class=\"data row0 col3\" >2.9000</td>\n",
              "            </tr>\n",
              "            <tr>\n",
              "                        <th id=\"T_5b5bab9e_7ac5_11ea_9194_0242ac1c0002level0_row1\" class=\"row_heading level0 row1\" >2001-12-31 00:00:00</th>\n",
              "                        <td id=\"T_5b5bab9e_7ac5_11ea_9194_0242ac1c0002row1_col0\" class=\"data row1 col0\" >115.7100</td>\n",
              "                        <td id=\"T_5b5bab9e_7ac5_11ea_9194_0242ac1c0002row1_col1\" class=\"data row1 col1\" >197.5900</td>\n",
              "                        <td id=\"T_5b5bab9e_7ac5_11ea_9194_0242ac1c0002row1_col2\" class=\"data row1 col2\" >5.4000</td>\n",
              "                        <td id=\"T_5b5bab9e_7ac5_11ea_9194_0242ac1c0002row1_col3\" class=\"data row1 col3\" >3.0000</td>\n",
              "            </tr>\n",
              "            <tr>\n",
              "                        <th id=\"T_5b5bab9e_7ac5_11ea_9194_0242ac1c0002level0_row2\" class=\"row_heading level0 row2\" >2002-12-31 00:00:00</th>\n",
              "                        <td id=\"T_5b5bab9e_7ac5_11ea_9194_0242ac1c0002row2_col0\" class=\"data row2 col0\" >140.2900</td>\n",
              "                        <td id=\"T_5b5bab9e_7ac5_11ea_9194_0242ac1c0002row2_col1\" class=\"data row2 col1\" >216.9300</td>\n",
              "                        <td id=\"T_5b5bab9e_7ac5_11ea_9194_0242ac1c0002row2_col2\" class=\"data row2 col2\" >8.8000</td>\n",
              "                        <td id=\"T_5b5bab9e_7ac5_11ea_9194_0242ac1c0002row2_col3\" class=\"data row2 col3\" >3.2000</td>\n",
              "            </tr>\n",
              "            <tr>\n",
              "                        <th id=\"T_5b5bab9e_7ac5_11ea_9194_0242ac1c0002level0_row3\" class=\"row_heading level0 row3\" >2003-12-31 00:00:00</th>\n",
              "                        <td id=\"T_5b5bab9e_7ac5_11ea_9194_0242ac1c0002row3_col0\" class=\"data row3 col0\" >183.8700</td>\n",
              "                        <td id=\"T_5b5bab9e_7ac5_11ea_9194_0242ac1c0002row3_col1\" class=\"data row3 col1\" >249.3500</td>\n",
              "                        <td id=\"T_5b5bab9e_7ac5_11ea_9194_0242ac1c0002row3_col2\" class=\"data row3 col2\" >14.0000</td>\n",
              "                        <td id=\"T_5b5bab9e_7ac5_11ea_9194_0242ac1c0002row3_col3\" class=\"data row3 col3\" >3.3000</td>\n",
              "            </tr>\n",
              "            <tr>\n",
              "                        <th id=\"T_5b5bab9e_7ac5_11ea_9194_0242ac1c0002level0_row4\" class=\"row_heading level0 row4\" >2004-12-31 00:00:00</th>\n",
              "                        <td id=\"T_5b5bab9e_7ac5_11ea_9194_0242ac1c0002row4_col0\" class=\"data row4 col0\" >223.2900</td>\n",
              "                        <td id=\"T_5b5bab9e_7ac5_11ea_9194_0242ac1c0002row4_col1\" class=\"data row4 col1\" >251.7200</td>\n",
              "                        <td id=\"T_5b5bab9e_7ac5_11ea_9194_0242ac1c0002row4_col2\" class=\"data row4 col2\" >20.4000</td>\n",
              "                        <td id=\"T_5b5bab9e_7ac5_11ea_9194_0242ac1c0002row4_col3\" class=\"data row4 col3\" >3.5000</td>\n",
              "            </tr>\n",
              "            <tr>\n",
              "                        <th id=\"T_5b5bab9e_7ac5_11ea_9194_0242ac1c0002level0_row5\" class=\"row_heading level0 row5\" >2005-12-31 00:00:00</th>\n",
              "                        <td id=\"T_5b5bab9e_7ac5_11ea_9194_0242ac1c0002row5_col0\" class=\"data row5 col0\" >260.6100</td>\n",
              "                        <td id=\"T_5b5bab9e_7ac5_11ea_9194_0242ac1c0002row5_col1\" class=\"data row5 col1\" >276.4200</td>\n",
              "                        <td id=\"T_5b5bab9e_7ac5_11ea_9194_0242ac1c0002row5_col2\" class=\"data row5 col2\" >35.8000</td>\n",
              "                        <td id=\"T_5b5bab9e_7ac5_11ea_9194_0242ac1c0002row5_col3\" class=\"data row5 col3\" >3.9000</td>\n",
              "            </tr>\n",
              "            <tr>\n",
              "                        <th id=\"T_5b5bab9e_7ac5_11ea_9194_0242ac1c0002level0_row6\" class=\"row_heading level0 row6\" >2006-12-31 00:00:00</th>\n",
              "                        <td id=\"T_5b5bab9e_7ac5_11ea_9194_0242ac1c0002row6_col0\" class=\"data row6 col0\" >334.9500</td>\n",
              "                        <td id=\"T_5b5bab9e_7ac5_11ea_9194_0242ac1c0002row6_col1\" class=\"data row6 col1\" >307.3100</td>\n",
              "                        <td id=\"T_5b5bab9e_7ac5_11ea_9194_0242ac1c0002row6_col2\" class=\"data row6 col2\" >59.4000</td>\n",
              "                        <td id=\"T_5b5bab9e_7ac5_11ea_9194_0242ac1c0002row6_col3\" class=\"data row6 col3\" >4.5000</td>\n",
              "            </tr>\n",
              "            <tr>\n",
              "                        <th id=\"T_5b5bab9e_7ac5_11ea_9194_0242ac1c0002level0_row7\" class=\"row_heading level0 row7\" >2007-12-31 00:00:00</th>\n",
              "                        <td id=\"T_5b5bab9e_7ac5_11ea_9194_0242ac1c0002row7_col0\" class=\"data row7 col0\" >457.3300</td>\n",
              "                        <td id=\"T_5b5bab9e_7ac5_11ea_9194_0242ac1c0002row7_col1\" class=\"data row7 col1\" >395.6800</td>\n",
              "                        <td id=\"T_5b5bab9e_7ac5_11ea_9194_0242ac1c0002row7_col2\" class=\"data row7 col2\" >63.8000</td>\n",
              "                        <td id=\"T_5b5bab9e_7ac5_11ea_9194_0242ac1c0002row7_col3\" class=\"data row7 col3\" >4.7000</td>\n",
              "            </tr>\n",
              "            <tr>\n",
              "                        <th id=\"T_5b5bab9e_7ac5_11ea_9194_0242ac1c0002level0_row8\" class=\"row_heading level0 row8\" >2008-12-31 00:00:00</th>\n",
              "                        <td id=\"T_5b5bab9e_7ac5_11ea_9194_0242ac1c0002row8_col0\" class=\"data row8 col0\" >649.6800</td>\n",
              "                        <td id=\"T_5b5bab9e_7ac5_11ea_9194_0242ac1c0002row8_col1\" class=\"data row8 col1\" >486.3500</td>\n",
              "                        <td id=\"T_5b5bab9e_7ac5_11ea_9194_0242ac1c0002row8_col2\" class=\"data row8 col2\" >65.0000</td>\n",
              "                        <td id=\"T_5b5bab9e_7ac5_11ea_9194_0242ac1c0002row8_col3\" class=\"data row8 col3\" >5.2000</td>\n",
              "            </tr>\n",
              "            <tr>\n",
              "                        <th id=\"T_5b5bab9e_7ac5_11ea_9194_0242ac1c0002level0_row9\" class=\"row_heading level0 row9\" >2009-12-31 00:00:00</th>\n",
              "                        <td id=\"T_5b5bab9e_7ac5_11ea_9194_0242ac1c0002row9_col0\" class=\"data row9 col0\" >746.5200</td>\n",
              "                        <td id=\"T_5b5bab9e_7ac5_11ea_9194_0242ac1c0002row9_col1\" class=\"data row9 col1\" >477.5300</td>\n",
              "                        <td id=\"T_5b5bab9e_7ac5_11ea_9194_0242ac1c0002row9_col2\" class=\"data row9 col2\" >58.0000</td>\n",
              "                        <td id=\"T_5b5bab9e_7ac5_11ea_9194_0242ac1c0002row9_col3\" class=\"data row9 col3\" >7.0000</td>\n",
              "            </tr>\n",
              "            <tr>\n",
              "                        <th id=\"T_5b5bab9e_7ac5_11ea_9194_0242ac1c0002level0_row10\" class=\"row_heading level0 row10\" >2010-12-31 00:00:00</th>\n",
              "                        <td id=\"T_5b5bab9e_7ac5_11ea_9194_0242ac1c0002row10_col0\" class=\"data row10 col0\" >887.6200</td>\n",
              "                        <td id=\"T_5b5bab9e_7ac5_11ea_9194_0242ac1c0002row10_col1\" class=\"data row10 col1\" >527.3200</td>\n",
              "                        <td id=\"T_5b5bab9e_7ac5_11ea_9194_0242ac1c0002row10_col2\" class=\"data row10 col2\" >62.0000</td>\n",
              "                        <td id=\"T_5b5bab9e_7ac5_11ea_9194_0242ac1c0002row10_col3\" class=\"data row10 col3\" >7.0000</td>\n",
              "            </tr>\n",
              "    </tbody></table>"
            ],
            "text/plain": [
              "<pandas.io.formats.style.Styler at 0x7f46bbbec828>"
            ]
          },
          "metadata": {
            "tags": []
          },
          "execution_count": 12
        }
      ]
    },
    {
      "cell_type": "code",
      "metadata": {
        "id": "jz5FnjxukPUe",
        "colab_type": "code",
        "colab": {
          "base_uri": "https://localhost:8080/",
          "height": 279
        },
        "outputId": "4d196a5c-cdef-4ad9-9a73-95f1e2ef7f71"
      },
      "source": [
        "df.style.background_gradient('coolwarm').format(\"{:,.4f}\")"
      ],
      "execution_count": 13,
      "outputs": [
        {
          "output_type": "execute_result",
          "data": {
            "text/html": [
              "<style  type=\"text/css\" >\n",
              "    #T_63bcf54a_7ac5_11ea_9194_0242ac1c0002row0_col0 {\n",
              "            background-color:  #3b4cc0;\n",
              "            color:  #f1f1f1;\n",
              "        }    #T_63bcf54a_7ac5_11ea_9194_0242ac1c0002row0_col1 {\n",
              "            background-color:  #3b4cc0;\n",
              "            color:  #f1f1f1;\n",
              "        }    #T_63bcf54a_7ac5_11ea_9194_0242ac1c0002row0_col2 {\n",
              "            background-color:  #3b4cc0;\n",
              "            color:  #f1f1f1;\n",
              "        }    #T_63bcf54a_7ac5_11ea_9194_0242ac1c0002row0_col3 {\n",
              "            background-color:  #3b4cc0;\n",
              "            color:  #f1f1f1;\n",
              "        }    #T_63bcf54a_7ac5_11ea_9194_0242ac1c0002row1_col0 {\n",
              "            background-color:  #3e51c5;\n",
              "            color:  #f1f1f1;\n",
              "        }    #T_63bcf54a_7ac5_11ea_9194_0242ac1c0002row1_col1 {\n",
              "            background-color:  #465ecf;\n",
              "            color:  #f1f1f1;\n",
              "        }    #T_63bcf54a_7ac5_11ea_9194_0242ac1c0002row1_col2 {\n",
              "            background-color:  #3f53c6;\n",
              "            color:  #f1f1f1;\n",
              "        }    #T_63bcf54a_7ac5_11ea_9194_0242ac1c0002row1_col3 {\n",
              "            background-color:  #4257c9;\n",
              "            color:  #f1f1f1;\n",
              "        }    #T_63bcf54a_7ac5_11ea_9194_0242ac1c0002row2_col0 {\n",
              "            background-color:  #485fd1;\n",
              "            color:  #f1f1f1;\n",
              "        }    #T_63bcf54a_7ac5_11ea_9194_0242ac1c0002row2_col1 {\n",
              "            background-color:  #5875e1;\n",
              "            color:  #000000;\n",
              "        }    #T_63bcf54a_7ac5_11ea_9194_0242ac1c0002row2_col2 {\n",
              "            background-color:  #506bda;\n",
              "            color:  #000000;\n",
              "        }    #T_63bcf54a_7ac5_11ea_9194_0242ac1c0002row2_col3 {\n",
              "            background-color:  #506bda;\n",
              "            color:  #000000;\n",
              "        }    #T_63bcf54a_7ac5_11ea_9194_0242ac1c0002row3_col0 {\n",
              "            background-color:  #5977e3;\n",
              "            color:  #000000;\n",
              "        }    #T_63bcf54a_7ac5_11ea_9194_0242ac1c0002row3_col1 {\n",
              "            background-color:  #779af7;\n",
              "            color:  #000000;\n",
              "        }    #T_63bcf54a_7ac5_11ea_9194_0242ac1c0002row3_col2 {\n",
              "            background-color:  #6c8ff1;\n",
              "            color:  #000000;\n",
              "        }    #T_63bcf54a_7ac5_11ea_9194_0242ac1c0002row3_col3 {\n",
              "            background-color:  #5875e1;\n",
              "            color:  #000000;\n",
              "        }    #T_63bcf54a_7ac5_11ea_9194_0242ac1c0002row4_col0 {\n",
              "            background-color:  #6a8bef;\n",
              "            color:  #000000;\n",
              "        }    #T_63bcf54a_7ac5_11ea_9194_0242ac1c0002row4_col1 {\n",
              "            background-color:  #7a9df8;\n",
              "            color:  #000000;\n",
              "        }    #T_63bcf54a_7ac5_11ea_9194_0242ac1c0002row4_col2 {\n",
              "            background-color:  #92b4fe;\n",
              "            color:  #000000;\n",
              "        }    #T_63bcf54a_7ac5_11ea_9194_0242ac1c0002row4_col3 {\n",
              "            background-color:  #688aef;\n",
              "            color:  #000000;\n",
              "        }    #T_63bcf54a_7ac5_11ea_9194_0242ac1c0002row5_col0 {\n",
              "            background-color:  #7a9df8;\n",
              "            color:  #000000;\n",
              "        }    #T_63bcf54a_7ac5_11ea_9194_0242ac1c0002row5_col1 {\n",
              "            background-color:  #93b5fe;\n",
              "            color:  #000000;\n",
              "        }    #T_63bcf54a_7ac5_11ea_9194_0242ac1c0002row5_col2 {\n",
              "            background-color:  #e1dad6;\n",
              "            color:  #000000;\n",
              "        }    #T_63bcf54a_7ac5_11ea_9194_0242ac1c0002row5_col3 {\n",
              "            background-color:  #8badfd;\n",
              "            color:  #000000;\n",
              "        }    #T_63bcf54a_7ac5_11ea_9194_0242ac1c0002row6_col0 {\n",
              "            background-color:  #9dbdff;\n",
              "            color:  #000000;\n",
              "        }    #T_63bcf54a_7ac5_11ea_9194_0242ac1c0002row6_col1 {\n",
              "            background-color:  #b2ccfb;\n",
              "            color:  #000000;\n",
              "        }    #T_63bcf54a_7ac5_11ea_9194_0242ac1c0002row6_col2 {\n",
              "            background-color:  #d44e41;\n",
              "            color:  #000000;\n",
              "        }    #T_63bcf54a_7ac5_11ea_9194_0242ac1c0002row6_col3 {\n",
              "            background-color:  #bcd2f7;\n",
              "            color:  #000000;\n",
              "        }    #T_63bcf54a_7ac5_11ea_9194_0242ac1c0002row7_col0 {\n",
              "            background-color:  #cfdaea;\n",
              "            color:  #000000;\n",
              "        }    #T_63bcf54a_7ac5_11ea_9194_0242ac1c0002row7_col1 {\n",
              "            background-color:  #f3c7b1;\n",
              "            color:  #000000;\n",
              "        }    #T_63bcf54a_7ac5_11ea_9194_0242ac1c0002row7_col2 {\n",
              "            background-color:  #bb1b2c;\n",
              "            color:  #f1f1f1;\n",
              "        }    #T_63bcf54a_7ac5_11ea_9194_0242ac1c0002row7_col3 {\n",
              "            background-color:  #ccd9ed;\n",
              "            color:  #000000;\n",
              "        }    #T_63bcf54a_7ac5_11ea_9194_0242ac1c0002row8_col0 {\n",
              "            background-color:  #f7ad90;\n",
              "            color:  #000000;\n",
              "        }    #T_63bcf54a_7ac5_11ea_9194_0242ac1c0002row8_col1 {\n",
              "            background-color:  #dc5d4a;\n",
              "            color:  #000000;\n",
              "        }    #T_63bcf54a_7ac5_11ea_9194_0242ac1c0002row8_col2 {\n",
              "            background-color:  #b40426;\n",
              "            color:  #f1f1f1;\n",
              "        }    #T_63bcf54a_7ac5_11ea_9194_0242ac1c0002row8_col3 {\n",
              "            background-color:  #ebd3c6;\n",
              "            color:  #000000;\n",
              "        }    #T_63bcf54a_7ac5_11ea_9194_0242ac1c0002row9_col0 {\n",
              "            background-color:  #ea7b60;\n",
              "            color:  #000000;\n",
              "        }    #T_63bcf54a_7ac5_11ea_9194_0242ac1c0002row9_col1 {\n",
              "            background-color:  #e36b54;\n",
              "            color:  #000000;\n",
              "        }    #T_63bcf54a_7ac5_11ea_9194_0242ac1c0002row9_col2 {\n",
              "            background-color:  #da5a49;\n",
              "            color:  #000000;\n",
              "        }    #T_63bcf54a_7ac5_11ea_9194_0242ac1c0002row9_col3 {\n",
              "            background-color:  #b40426;\n",
              "            color:  #f1f1f1;\n",
              "        }    #T_63bcf54a_7ac5_11ea_9194_0242ac1c0002row10_col0 {\n",
              "            background-color:  #b40426;\n",
              "            color:  #f1f1f1;\n",
              "        }    #T_63bcf54a_7ac5_11ea_9194_0242ac1c0002row10_col1 {\n",
              "            background-color:  #b40426;\n",
              "            color:  #f1f1f1;\n",
              "        }    #T_63bcf54a_7ac5_11ea_9194_0242ac1c0002row10_col2 {\n",
              "            background-color:  #c53334;\n",
              "            color:  #f1f1f1;\n",
              "        }    #T_63bcf54a_7ac5_11ea_9194_0242ac1c0002row10_col3 {\n",
              "            background-color:  #b40426;\n",
              "            color:  #f1f1f1;\n",
              "        }</style><table id=\"T_63bcf54a_7ac5_11ea_9194_0242ac1c0002\" ><thead>    <tr>        <th class=\"blank level0\" ></th>        <th class=\"col_heading level0 col0\" >USA</th>        <th class=\"col_heading level0 col1\" >BRA</th>        <th class=\"col_heading level0 col2\" >DEU</th>        <th class=\"col_heading level0 col3\" >IND</th>    </tr>    <tr>        <th class=\"index_name level0\" >YEAR</th>        <th class=\"blank\" ></th>        <th class=\"blank\" ></th>        <th class=\"blank\" ></th>        <th class=\"blank\" ></th>    </tr></thead><tbody>\n",
              "                <tr>\n",
              "                        <th id=\"T_63bcf54a_7ac5_11ea_9194_0242ac1c0002level0_row0\" class=\"row_heading level0 row0\" >2000-12-31 00:00:00</th>\n",
              "                        <td id=\"T_63bcf54a_7ac5_11ea_9194_0242ac1c0002row0_col0\" class=\"data row0 col0\" >105.5400</td>\n",
              "                        <td id=\"T_63bcf54a_7ac5_11ea_9194_0242ac1c0002row0_col1\" class=\"data row0 col1\" >183.8900</td>\n",
              "                        <td id=\"T_63bcf54a_7ac5_11ea_9194_0242ac1c0002row0_col2\" class=\"data row0 col2\" >4.3000</td>\n",
              "                        <td id=\"T_63bcf54a_7ac5_11ea_9194_0242ac1c0002row0_col3\" class=\"data row0 col3\" >2.9000</td>\n",
              "            </tr>\n",
              "            <tr>\n",
              "                        <th id=\"T_63bcf54a_7ac5_11ea_9194_0242ac1c0002level0_row1\" class=\"row_heading level0 row1\" >2001-12-31 00:00:00</th>\n",
              "                        <td id=\"T_63bcf54a_7ac5_11ea_9194_0242ac1c0002row1_col0\" class=\"data row1 col0\" >115.7100</td>\n",
              "                        <td id=\"T_63bcf54a_7ac5_11ea_9194_0242ac1c0002row1_col1\" class=\"data row1 col1\" >197.5900</td>\n",
              "                        <td id=\"T_63bcf54a_7ac5_11ea_9194_0242ac1c0002row1_col2\" class=\"data row1 col2\" >5.4000</td>\n",
              "                        <td id=\"T_63bcf54a_7ac5_11ea_9194_0242ac1c0002row1_col3\" class=\"data row1 col3\" >3.0000</td>\n",
              "            </tr>\n",
              "            <tr>\n",
              "                        <th id=\"T_63bcf54a_7ac5_11ea_9194_0242ac1c0002level0_row2\" class=\"row_heading level0 row2\" >2002-12-31 00:00:00</th>\n",
              "                        <td id=\"T_63bcf54a_7ac5_11ea_9194_0242ac1c0002row2_col0\" class=\"data row2 col0\" >140.2900</td>\n",
              "                        <td id=\"T_63bcf54a_7ac5_11ea_9194_0242ac1c0002row2_col1\" class=\"data row2 col1\" >216.9300</td>\n",
              "                        <td id=\"T_63bcf54a_7ac5_11ea_9194_0242ac1c0002row2_col2\" class=\"data row2 col2\" >8.8000</td>\n",
              "                        <td id=\"T_63bcf54a_7ac5_11ea_9194_0242ac1c0002row2_col3\" class=\"data row2 col3\" >3.2000</td>\n",
              "            </tr>\n",
              "            <tr>\n",
              "                        <th id=\"T_63bcf54a_7ac5_11ea_9194_0242ac1c0002level0_row3\" class=\"row_heading level0 row3\" >2003-12-31 00:00:00</th>\n",
              "                        <td id=\"T_63bcf54a_7ac5_11ea_9194_0242ac1c0002row3_col0\" class=\"data row3 col0\" >183.8700</td>\n",
              "                        <td id=\"T_63bcf54a_7ac5_11ea_9194_0242ac1c0002row3_col1\" class=\"data row3 col1\" >249.3500</td>\n",
              "                        <td id=\"T_63bcf54a_7ac5_11ea_9194_0242ac1c0002row3_col2\" class=\"data row3 col2\" >14.0000</td>\n",
              "                        <td id=\"T_63bcf54a_7ac5_11ea_9194_0242ac1c0002row3_col3\" class=\"data row3 col3\" >3.3000</td>\n",
              "            </tr>\n",
              "            <tr>\n",
              "                        <th id=\"T_63bcf54a_7ac5_11ea_9194_0242ac1c0002level0_row4\" class=\"row_heading level0 row4\" >2004-12-31 00:00:00</th>\n",
              "                        <td id=\"T_63bcf54a_7ac5_11ea_9194_0242ac1c0002row4_col0\" class=\"data row4 col0\" >223.2900</td>\n",
              "                        <td id=\"T_63bcf54a_7ac5_11ea_9194_0242ac1c0002row4_col1\" class=\"data row4 col1\" >251.7200</td>\n",
              "                        <td id=\"T_63bcf54a_7ac5_11ea_9194_0242ac1c0002row4_col2\" class=\"data row4 col2\" >20.4000</td>\n",
              "                        <td id=\"T_63bcf54a_7ac5_11ea_9194_0242ac1c0002row4_col3\" class=\"data row4 col3\" >3.5000</td>\n",
              "            </tr>\n",
              "            <tr>\n",
              "                        <th id=\"T_63bcf54a_7ac5_11ea_9194_0242ac1c0002level0_row5\" class=\"row_heading level0 row5\" >2005-12-31 00:00:00</th>\n",
              "                        <td id=\"T_63bcf54a_7ac5_11ea_9194_0242ac1c0002row5_col0\" class=\"data row5 col0\" >260.6100</td>\n",
              "                        <td id=\"T_63bcf54a_7ac5_11ea_9194_0242ac1c0002row5_col1\" class=\"data row5 col1\" >276.4200</td>\n",
              "                        <td id=\"T_63bcf54a_7ac5_11ea_9194_0242ac1c0002row5_col2\" class=\"data row5 col2\" >35.8000</td>\n",
              "                        <td id=\"T_63bcf54a_7ac5_11ea_9194_0242ac1c0002row5_col3\" class=\"data row5 col3\" >3.9000</td>\n",
              "            </tr>\n",
              "            <tr>\n",
              "                        <th id=\"T_63bcf54a_7ac5_11ea_9194_0242ac1c0002level0_row6\" class=\"row_heading level0 row6\" >2006-12-31 00:00:00</th>\n",
              "                        <td id=\"T_63bcf54a_7ac5_11ea_9194_0242ac1c0002row6_col0\" class=\"data row6 col0\" >334.9500</td>\n",
              "                        <td id=\"T_63bcf54a_7ac5_11ea_9194_0242ac1c0002row6_col1\" class=\"data row6 col1\" >307.3100</td>\n",
              "                        <td id=\"T_63bcf54a_7ac5_11ea_9194_0242ac1c0002row6_col2\" class=\"data row6 col2\" >59.4000</td>\n",
              "                        <td id=\"T_63bcf54a_7ac5_11ea_9194_0242ac1c0002row6_col3\" class=\"data row6 col3\" >4.5000</td>\n",
              "            </tr>\n",
              "            <tr>\n",
              "                        <th id=\"T_63bcf54a_7ac5_11ea_9194_0242ac1c0002level0_row7\" class=\"row_heading level0 row7\" >2007-12-31 00:00:00</th>\n",
              "                        <td id=\"T_63bcf54a_7ac5_11ea_9194_0242ac1c0002row7_col0\" class=\"data row7 col0\" >457.3300</td>\n",
              "                        <td id=\"T_63bcf54a_7ac5_11ea_9194_0242ac1c0002row7_col1\" class=\"data row7 col1\" >395.6800</td>\n",
              "                        <td id=\"T_63bcf54a_7ac5_11ea_9194_0242ac1c0002row7_col2\" class=\"data row7 col2\" >63.8000</td>\n",
              "                        <td id=\"T_63bcf54a_7ac5_11ea_9194_0242ac1c0002row7_col3\" class=\"data row7 col3\" >4.7000</td>\n",
              "            </tr>\n",
              "            <tr>\n",
              "                        <th id=\"T_63bcf54a_7ac5_11ea_9194_0242ac1c0002level0_row8\" class=\"row_heading level0 row8\" >2008-12-31 00:00:00</th>\n",
              "                        <td id=\"T_63bcf54a_7ac5_11ea_9194_0242ac1c0002row8_col0\" class=\"data row8 col0\" >649.6800</td>\n",
              "                        <td id=\"T_63bcf54a_7ac5_11ea_9194_0242ac1c0002row8_col1\" class=\"data row8 col1\" >486.3500</td>\n",
              "                        <td id=\"T_63bcf54a_7ac5_11ea_9194_0242ac1c0002row8_col2\" class=\"data row8 col2\" >65.0000</td>\n",
              "                        <td id=\"T_63bcf54a_7ac5_11ea_9194_0242ac1c0002row8_col3\" class=\"data row8 col3\" >5.2000</td>\n",
              "            </tr>\n",
              "            <tr>\n",
              "                        <th id=\"T_63bcf54a_7ac5_11ea_9194_0242ac1c0002level0_row9\" class=\"row_heading level0 row9\" >2009-12-31 00:00:00</th>\n",
              "                        <td id=\"T_63bcf54a_7ac5_11ea_9194_0242ac1c0002row9_col0\" class=\"data row9 col0\" >746.5200</td>\n",
              "                        <td id=\"T_63bcf54a_7ac5_11ea_9194_0242ac1c0002row9_col1\" class=\"data row9 col1\" >477.5300</td>\n",
              "                        <td id=\"T_63bcf54a_7ac5_11ea_9194_0242ac1c0002row9_col2\" class=\"data row9 col2\" >58.0000</td>\n",
              "                        <td id=\"T_63bcf54a_7ac5_11ea_9194_0242ac1c0002row9_col3\" class=\"data row9 col3\" >7.0000</td>\n",
              "            </tr>\n",
              "            <tr>\n",
              "                        <th id=\"T_63bcf54a_7ac5_11ea_9194_0242ac1c0002level0_row10\" class=\"row_heading level0 row10\" >2010-12-31 00:00:00</th>\n",
              "                        <td id=\"T_63bcf54a_7ac5_11ea_9194_0242ac1c0002row10_col0\" class=\"data row10 col0\" >887.6200</td>\n",
              "                        <td id=\"T_63bcf54a_7ac5_11ea_9194_0242ac1c0002row10_col1\" class=\"data row10 col1\" >527.3200</td>\n",
              "                        <td id=\"T_63bcf54a_7ac5_11ea_9194_0242ac1c0002row10_col2\" class=\"data row10 col2\" >62.0000</td>\n",
              "                        <td id=\"T_63bcf54a_7ac5_11ea_9194_0242ac1c0002row10_col3\" class=\"data row10 col3\" >7.0000</td>\n",
              "            </tr>\n",
              "    </tbody></table>"
            ],
            "text/plain": [
              "<pandas.io.formats.style.Styler at 0x7f46bbbec5c0>"
            ]
          },
          "metadata": {
            "tags": []
          },
          "execution_count": 13
        }
      ]
    },
    {
      "cell_type": "code",
      "metadata": {
        "id": "8BehFQQ3kgI-",
        "colab_type": "code",
        "colab": {
          "base_uri": "https://localhost:8080/",
          "height": 279
        },
        "outputId": "7330674d-2f84-4490-eaf1-5eac70512438"
      },
      "source": [
        "def check(val):\n",
        "    if val < 20:\n",
        "        return \"background-color: orange\"\n",
        "    return \"\"\n",
        "\n",
        "df.style.applymap(check).format('{:,.4f}')"
      ],
      "execution_count": 14,
      "outputs": [
        {
          "output_type": "execute_result",
          "data": {
            "text/html": [
              "<style  type=\"text/css\" >\n",
              "    #T_6c9f56bc_7ac5_11ea_9194_0242ac1c0002row0_col2 {\n",
              "            background-color:  orange;\n",
              "        }    #T_6c9f56bc_7ac5_11ea_9194_0242ac1c0002row0_col3 {\n",
              "            background-color:  orange;\n",
              "        }    #T_6c9f56bc_7ac5_11ea_9194_0242ac1c0002row1_col2 {\n",
              "            background-color:  orange;\n",
              "        }    #T_6c9f56bc_7ac5_11ea_9194_0242ac1c0002row1_col3 {\n",
              "            background-color:  orange;\n",
              "        }    #T_6c9f56bc_7ac5_11ea_9194_0242ac1c0002row2_col2 {\n",
              "            background-color:  orange;\n",
              "        }    #T_6c9f56bc_7ac5_11ea_9194_0242ac1c0002row2_col3 {\n",
              "            background-color:  orange;\n",
              "        }    #T_6c9f56bc_7ac5_11ea_9194_0242ac1c0002row3_col2 {\n",
              "            background-color:  orange;\n",
              "        }    #T_6c9f56bc_7ac5_11ea_9194_0242ac1c0002row3_col3 {\n",
              "            background-color:  orange;\n",
              "        }    #T_6c9f56bc_7ac5_11ea_9194_0242ac1c0002row4_col3 {\n",
              "            background-color:  orange;\n",
              "        }    #T_6c9f56bc_7ac5_11ea_9194_0242ac1c0002row5_col3 {\n",
              "            background-color:  orange;\n",
              "        }    #T_6c9f56bc_7ac5_11ea_9194_0242ac1c0002row6_col3 {\n",
              "            background-color:  orange;\n",
              "        }    #T_6c9f56bc_7ac5_11ea_9194_0242ac1c0002row7_col3 {\n",
              "            background-color:  orange;\n",
              "        }    #T_6c9f56bc_7ac5_11ea_9194_0242ac1c0002row8_col3 {\n",
              "            background-color:  orange;\n",
              "        }    #T_6c9f56bc_7ac5_11ea_9194_0242ac1c0002row9_col3 {\n",
              "            background-color:  orange;\n",
              "        }    #T_6c9f56bc_7ac5_11ea_9194_0242ac1c0002row10_col3 {\n",
              "            background-color:  orange;\n",
              "        }</style><table id=\"T_6c9f56bc_7ac5_11ea_9194_0242ac1c0002\" ><thead>    <tr>        <th class=\"blank level0\" ></th>        <th class=\"col_heading level0 col0\" >USA</th>        <th class=\"col_heading level0 col1\" >BRA</th>        <th class=\"col_heading level0 col2\" >DEU</th>        <th class=\"col_heading level0 col3\" >IND</th>    </tr>    <tr>        <th class=\"index_name level0\" >YEAR</th>        <th class=\"blank\" ></th>        <th class=\"blank\" ></th>        <th class=\"blank\" ></th>        <th class=\"blank\" ></th>    </tr></thead><tbody>\n",
              "                <tr>\n",
              "                        <th id=\"T_6c9f56bc_7ac5_11ea_9194_0242ac1c0002level0_row0\" class=\"row_heading level0 row0\" >2000-12-31 00:00:00</th>\n",
              "                        <td id=\"T_6c9f56bc_7ac5_11ea_9194_0242ac1c0002row0_col0\" class=\"data row0 col0\" >105.5400</td>\n",
              "                        <td id=\"T_6c9f56bc_7ac5_11ea_9194_0242ac1c0002row0_col1\" class=\"data row0 col1\" >183.8900</td>\n",
              "                        <td id=\"T_6c9f56bc_7ac5_11ea_9194_0242ac1c0002row0_col2\" class=\"data row0 col2\" >4.3000</td>\n",
              "                        <td id=\"T_6c9f56bc_7ac5_11ea_9194_0242ac1c0002row0_col3\" class=\"data row0 col3\" >2.9000</td>\n",
              "            </tr>\n",
              "            <tr>\n",
              "                        <th id=\"T_6c9f56bc_7ac5_11ea_9194_0242ac1c0002level0_row1\" class=\"row_heading level0 row1\" >2001-12-31 00:00:00</th>\n",
              "                        <td id=\"T_6c9f56bc_7ac5_11ea_9194_0242ac1c0002row1_col0\" class=\"data row1 col0\" >115.7100</td>\n",
              "                        <td id=\"T_6c9f56bc_7ac5_11ea_9194_0242ac1c0002row1_col1\" class=\"data row1 col1\" >197.5900</td>\n",
              "                        <td id=\"T_6c9f56bc_7ac5_11ea_9194_0242ac1c0002row1_col2\" class=\"data row1 col2\" >5.4000</td>\n",
              "                        <td id=\"T_6c9f56bc_7ac5_11ea_9194_0242ac1c0002row1_col3\" class=\"data row1 col3\" >3.0000</td>\n",
              "            </tr>\n",
              "            <tr>\n",
              "                        <th id=\"T_6c9f56bc_7ac5_11ea_9194_0242ac1c0002level0_row2\" class=\"row_heading level0 row2\" >2002-12-31 00:00:00</th>\n",
              "                        <td id=\"T_6c9f56bc_7ac5_11ea_9194_0242ac1c0002row2_col0\" class=\"data row2 col0\" >140.2900</td>\n",
              "                        <td id=\"T_6c9f56bc_7ac5_11ea_9194_0242ac1c0002row2_col1\" class=\"data row2 col1\" >216.9300</td>\n",
              "                        <td id=\"T_6c9f56bc_7ac5_11ea_9194_0242ac1c0002row2_col2\" class=\"data row2 col2\" >8.8000</td>\n",
              "                        <td id=\"T_6c9f56bc_7ac5_11ea_9194_0242ac1c0002row2_col3\" class=\"data row2 col3\" >3.2000</td>\n",
              "            </tr>\n",
              "            <tr>\n",
              "                        <th id=\"T_6c9f56bc_7ac5_11ea_9194_0242ac1c0002level0_row3\" class=\"row_heading level0 row3\" >2003-12-31 00:00:00</th>\n",
              "                        <td id=\"T_6c9f56bc_7ac5_11ea_9194_0242ac1c0002row3_col0\" class=\"data row3 col0\" >183.8700</td>\n",
              "                        <td id=\"T_6c9f56bc_7ac5_11ea_9194_0242ac1c0002row3_col1\" class=\"data row3 col1\" >249.3500</td>\n",
              "                        <td id=\"T_6c9f56bc_7ac5_11ea_9194_0242ac1c0002row3_col2\" class=\"data row3 col2\" >14.0000</td>\n",
              "                        <td id=\"T_6c9f56bc_7ac5_11ea_9194_0242ac1c0002row3_col3\" class=\"data row3 col3\" >3.3000</td>\n",
              "            </tr>\n",
              "            <tr>\n",
              "                        <th id=\"T_6c9f56bc_7ac5_11ea_9194_0242ac1c0002level0_row4\" class=\"row_heading level0 row4\" >2004-12-31 00:00:00</th>\n",
              "                        <td id=\"T_6c9f56bc_7ac5_11ea_9194_0242ac1c0002row4_col0\" class=\"data row4 col0\" >223.2900</td>\n",
              "                        <td id=\"T_6c9f56bc_7ac5_11ea_9194_0242ac1c0002row4_col1\" class=\"data row4 col1\" >251.7200</td>\n",
              "                        <td id=\"T_6c9f56bc_7ac5_11ea_9194_0242ac1c0002row4_col2\" class=\"data row4 col2\" >20.4000</td>\n",
              "                        <td id=\"T_6c9f56bc_7ac5_11ea_9194_0242ac1c0002row4_col3\" class=\"data row4 col3\" >3.5000</td>\n",
              "            </tr>\n",
              "            <tr>\n",
              "                        <th id=\"T_6c9f56bc_7ac5_11ea_9194_0242ac1c0002level0_row5\" class=\"row_heading level0 row5\" >2005-12-31 00:00:00</th>\n",
              "                        <td id=\"T_6c9f56bc_7ac5_11ea_9194_0242ac1c0002row5_col0\" class=\"data row5 col0\" >260.6100</td>\n",
              "                        <td id=\"T_6c9f56bc_7ac5_11ea_9194_0242ac1c0002row5_col1\" class=\"data row5 col1\" >276.4200</td>\n",
              "                        <td id=\"T_6c9f56bc_7ac5_11ea_9194_0242ac1c0002row5_col2\" class=\"data row5 col2\" >35.8000</td>\n",
              "                        <td id=\"T_6c9f56bc_7ac5_11ea_9194_0242ac1c0002row5_col3\" class=\"data row5 col3\" >3.9000</td>\n",
              "            </tr>\n",
              "            <tr>\n",
              "                        <th id=\"T_6c9f56bc_7ac5_11ea_9194_0242ac1c0002level0_row6\" class=\"row_heading level0 row6\" >2006-12-31 00:00:00</th>\n",
              "                        <td id=\"T_6c9f56bc_7ac5_11ea_9194_0242ac1c0002row6_col0\" class=\"data row6 col0\" >334.9500</td>\n",
              "                        <td id=\"T_6c9f56bc_7ac5_11ea_9194_0242ac1c0002row6_col1\" class=\"data row6 col1\" >307.3100</td>\n",
              "                        <td id=\"T_6c9f56bc_7ac5_11ea_9194_0242ac1c0002row6_col2\" class=\"data row6 col2\" >59.4000</td>\n",
              "                        <td id=\"T_6c9f56bc_7ac5_11ea_9194_0242ac1c0002row6_col3\" class=\"data row6 col3\" >4.5000</td>\n",
              "            </tr>\n",
              "            <tr>\n",
              "                        <th id=\"T_6c9f56bc_7ac5_11ea_9194_0242ac1c0002level0_row7\" class=\"row_heading level0 row7\" >2007-12-31 00:00:00</th>\n",
              "                        <td id=\"T_6c9f56bc_7ac5_11ea_9194_0242ac1c0002row7_col0\" class=\"data row7 col0\" >457.3300</td>\n",
              "                        <td id=\"T_6c9f56bc_7ac5_11ea_9194_0242ac1c0002row7_col1\" class=\"data row7 col1\" >395.6800</td>\n",
              "                        <td id=\"T_6c9f56bc_7ac5_11ea_9194_0242ac1c0002row7_col2\" class=\"data row7 col2\" >63.8000</td>\n",
              "                        <td id=\"T_6c9f56bc_7ac5_11ea_9194_0242ac1c0002row7_col3\" class=\"data row7 col3\" >4.7000</td>\n",
              "            </tr>\n",
              "            <tr>\n",
              "                        <th id=\"T_6c9f56bc_7ac5_11ea_9194_0242ac1c0002level0_row8\" class=\"row_heading level0 row8\" >2008-12-31 00:00:00</th>\n",
              "                        <td id=\"T_6c9f56bc_7ac5_11ea_9194_0242ac1c0002row8_col0\" class=\"data row8 col0\" >649.6800</td>\n",
              "                        <td id=\"T_6c9f56bc_7ac5_11ea_9194_0242ac1c0002row8_col1\" class=\"data row8 col1\" >486.3500</td>\n",
              "                        <td id=\"T_6c9f56bc_7ac5_11ea_9194_0242ac1c0002row8_col2\" class=\"data row8 col2\" >65.0000</td>\n",
              "                        <td id=\"T_6c9f56bc_7ac5_11ea_9194_0242ac1c0002row8_col3\" class=\"data row8 col3\" >5.2000</td>\n",
              "            </tr>\n",
              "            <tr>\n",
              "                        <th id=\"T_6c9f56bc_7ac5_11ea_9194_0242ac1c0002level0_row9\" class=\"row_heading level0 row9\" >2009-12-31 00:00:00</th>\n",
              "                        <td id=\"T_6c9f56bc_7ac5_11ea_9194_0242ac1c0002row9_col0\" class=\"data row9 col0\" >746.5200</td>\n",
              "                        <td id=\"T_6c9f56bc_7ac5_11ea_9194_0242ac1c0002row9_col1\" class=\"data row9 col1\" >477.5300</td>\n",
              "                        <td id=\"T_6c9f56bc_7ac5_11ea_9194_0242ac1c0002row9_col2\" class=\"data row9 col2\" >58.0000</td>\n",
              "                        <td id=\"T_6c9f56bc_7ac5_11ea_9194_0242ac1c0002row9_col3\" class=\"data row9 col3\" >7.0000</td>\n",
              "            </tr>\n",
              "            <tr>\n",
              "                        <th id=\"T_6c9f56bc_7ac5_11ea_9194_0242ac1c0002level0_row10\" class=\"row_heading level0 row10\" >2010-12-31 00:00:00</th>\n",
              "                        <td id=\"T_6c9f56bc_7ac5_11ea_9194_0242ac1c0002row10_col0\" class=\"data row10 col0\" >887.6200</td>\n",
              "                        <td id=\"T_6c9f56bc_7ac5_11ea_9194_0242ac1c0002row10_col1\" class=\"data row10 col1\" >527.3200</td>\n",
              "                        <td id=\"T_6c9f56bc_7ac5_11ea_9194_0242ac1c0002row10_col2\" class=\"data row10 col2\" >62.0000</td>\n",
              "                        <td id=\"T_6c9f56bc_7ac5_11ea_9194_0242ac1c0002row10_col3\" class=\"data row10 col3\" >7.0000</td>\n",
              "            </tr>\n",
              "    </tbody></table>"
            ],
            "text/plain": [
              "<pandas.io.formats.style.Styler at 0x7f46bbbecc50>"
            ]
          },
          "metadata": {
            "tags": []
          },
          "execution_count": 14
        }
      ]
    },
    {
      "cell_type": "code",
      "metadata": {
        "id": "GA2wGQqxkgD5",
        "colab_type": "code",
        "colab": {
          "base_uri": "https://localhost:8080/",
          "height": 279
        },
        "outputId": "5ddf64fc-ef0d-4377-c7ce-d19f78cde018"
      },
      "source": [
        "def top10(col):\n",
        "    is_top10 = col > col.quantile(0.9)\n",
        "    return ['background-color:orange' if v else '' for v in is_top10]\n",
        "\n",
        "df.style.apply(top10).format(\"{:,.4f}\")"
      ],
      "execution_count": 15,
      "outputs": [
        {
          "output_type": "execute_result",
          "data": {
            "text/html": [
              "<style  type=\"text/css\" >\n",
              "    #T_71b345be_7ac5_11ea_9194_0242ac1c0002row8_col2 {\n",
              "            background-color: orange;\n",
              "        }    #T_71b345be_7ac5_11ea_9194_0242ac1c0002row10_col0 {\n",
              "            background-color: orange;\n",
              "        }    #T_71b345be_7ac5_11ea_9194_0242ac1c0002row10_col1 {\n",
              "            background-color: orange;\n",
              "        }</style><table id=\"T_71b345be_7ac5_11ea_9194_0242ac1c0002\" ><thead>    <tr>        <th class=\"blank level0\" ></th>        <th class=\"col_heading level0 col0\" >USA</th>        <th class=\"col_heading level0 col1\" >BRA</th>        <th class=\"col_heading level0 col2\" >DEU</th>        <th class=\"col_heading level0 col3\" >IND</th>    </tr>    <tr>        <th class=\"index_name level0\" >YEAR</th>        <th class=\"blank\" ></th>        <th class=\"blank\" ></th>        <th class=\"blank\" ></th>        <th class=\"blank\" ></th>    </tr></thead><tbody>\n",
              "                <tr>\n",
              "                        <th id=\"T_71b345be_7ac5_11ea_9194_0242ac1c0002level0_row0\" class=\"row_heading level0 row0\" >2000-12-31 00:00:00</th>\n",
              "                        <td id=\"T_71b345be_7ac5_11ea_9194_0242ac1c0002row0_col0\" class=\"data row0 col0\" >105.5400</td>\n",
              "                        <td id=\"T_71b345be_7ac5_11ea_9194_0242ac1c0002row0_col1\" class=\"data row0 col1\" >183.8900</td>\n",
              "                        <td id=\"T_71b345be_7ac5_11ea_9194_0242ac1c0002row0_col2\" class=\"data row0 col2\" >4.3000</td>\n",
              "                        <td id=\"T_71b345be_7ac5_11ea_9194_0242ac1c0002row0_col3\" class=\"data row0 col3\" >2.9000</td>\n",
              "            </tr>\n",
              "            <tr>\n",
              "                        <th id=\"T_71b345be_7ac5_11ea_9194_0242ac1c0002level0_row1\" class=\"row_heading level0 row1\" >2001-12-31 00:00:00</th>\n",
              "                        <td id=\"T_71b345be_7ac5_11ea_9194_0242ac1c0002row1_col0\" class=\"data row1 col0\" >115.7100</td>\n",
              "                        <td id=\"T_71b345be_7ac5_11ea_9194_0242ac1c0002row1_col1\" class=\"data row1 col1\" >197.5900</td>\n",
              "                        <td id=\"T_71b345be_7ac5_11ea_9194_0242ac1c0002row1_col2\" class=\"data row1 col2\" >5.4000</td>\n",
              "                        <td id=\"T_71b345be_7ac5_11ea_9194_0242ac1c0002row1_col3\" class=\"data row1 col3\" >3.0000</td>\n",
              "            </tr>\n",
              "            <tr>\n",
              "                        <th id=\"T_71b345be_7ac5_11ea_9194_0242ac1c0002level0_row2\" class=\"row_heading level0 row2\" >2002-12-31 00:00:00</th>\n",
              "                        <td id=\"T_71b345be_7ac5_11ea_9194_0242ac1c0002row2_col0\" class=\"data row2 col0\" >140.2900</td>\n",
              "                        <td id=\"T_71b345be_7ac5_11ea_9194_0242ac1c0002row2_col1\" class=\"data row2 col1\" >216.9300</td>\n",
              "                        <td id=\"T_71b345be_7ac5_11ea_9194_0242ac1c0002row2_col2\" class=\"data row2 col2\" >8.8000</td>\n",
              "                        <td id=\"T_71b345be_7ac5_11ea_9194_0242ac1c0002row2_col3\" class=\"data row2 col3\" >3.2000</td>\n",
              "            </tr>\n",
              "            <tr>\n",
              "                        <th id=\"T_71b345be_7ac5_11ea_9194_0242ac1c0002level0_row3\" class=\"row_heading level0 row3\" >2003-12-31 00:00:00</th>\n",
              "                        <td id=\"T_71b345be_7ac5_11ea_9194_0242ac1c0002row3_col0\" class=\"data row3 col0\" >183.8700</td>\n",
              "                        <td id=\"T_71b345be_7ac5_11ea_9194_0242ac1c0002row3_col1\" class=\"data row3 col1\" >249.3500</td>\n",
              "                        <td id=\"T_71b345be_7ac5_11ea_9194_0242ac1c0002row3_col2\" class=\"data row3 col2\" >14.0000</td>\n",
              "                        <td id=\"T_71b345be_7ac5_11ea_9194_0242ac1c0002row3_col3\" class=\"data row3 col3\" >3.3000</td>\n",
              "            </tr>\n",
              "            <tr>\n",
              "                        <th id=\"T_71b345be_7ac5_11ea_9194_0242ac1c0002level0_row4\" class=\"row_heading level0 row4\" >2004-12-31 00:00:00</th>\n",
              "                        <td id=\"T_71b345be_7ac5_11ea_9194_0242ac1c0002row4_col0\" class=\"data row4 col0\" >223.2900</td>\n",
              "                        <td id=\"T_71b345be_7ac5_11ea_9194_0242ac1c0002row4_col1\" class=\"data row4 col1\" >251.7200</td>\n",
              "                        <td id=\"T_71b345be_7ac5_11ea_9194_0242ac1c0002row4_col2\" class=\"data row4 col2\" >20.4000</td>\n",
              "                        <td id=\"T_71b345be_7ac5_11ea_9194_0242ac1c0002row4_col3\" class=\"data row4 col3\" >3.5000</td>\n",
              "            </tr>\n",
              "            <tr>\n",
              "                        <th id=\"T_71b345be_7ac5_11ea_9194_0242ac1c0002level0_row5\" class=\"row_heading level0 row5\" >2005-12-31 00:00:00</th>\n",
              "                        <td id=\"T_71b345be_7ac5_11ea_9194_0242ac1c0002row5_col0\" class=\"data row5 col0\" >260.6100</td>\n",
              "                        <td id=\"T_71b345be_7ac5_11ea_9194_0242ac1c0002row5_col1\" class=\"data row5 col1\" >276.4200</td>\n",
              "                        <td id=\"T_71b345be_7ac5_11ea_9194_0242ac1c0002row5_col2\" class=\"data row5 col2\" >35.8000</td>\n",
              "                        <td id=\"T_71b345be_7ac5_11ea_9194_0242ac1c0002row5_col3\" class=\"data row5 col3\" >3.9000</td>\n",
              "            </tr>\n",
              "            <tr>\n",
              "                        <th id=\"T_71b345be_7ac5_11ea_9194_0242ac1c0002level0_row6\" class=\"row_heading level0 row6\" >2006-12-31 00:00:00</th>\n",
              "                        <td id=\"T_71b345be_7ac5_11ea_9194_0242ac1c0002row6_col0\" class=\"data row6 col0\" >334.9500</td>\n",
              "                        <td id=\"T_71b345be_7ac5_11ea_9194_0242ac1c0002row6_col1\" class=\"data row6 col1\" >307.3100</td>\n",
              "                        <td id=\"T_71b345be_7ac5_11ea_9194_0242ac1c0002row6_col2\" class=\"data row6 col2\" >59.4000</td>\n",
              "                        <td id=\"T_71b345be_7ac5_11ea_9194_0242ac1c0002row6_col3\" class=\"data row6 col3\" >4.5000</td>\n",
              "            </tr>\n",
              "            <tr>\n",
              "                        <th id=\"T_71b345be_7ac5_11ea_9194_0242ac1c0002level0_row7\" class=\"row_heading level0 row7\" >2007-12-31 00:00:00</th>\n",
              "                        <td id=\"T_71b345be_7ac5_11ea_9194_0242ac1c0002row7_col0\" class=\"data row7 col0\" >457.3300</td>\n",
              "                        <td id=\"T_71b345be_7ac5_11ea_9194_0242ac1c0002row7_col1\" class=\"data row7 col1\" >395.6800</td>\n",
              "                        <td id=\"T_71b345be_7ac5_11ea_9194_0242ac1c0002row7_col2\" class=\"data row7 col2\" >63.8000</td>\n",
              "                        <td id=\"T_71b345be_7ac5_11ea_9194_0242ac1c0002row7_col3\" class=\"data row7 col3\" >4.7000</td>\n",
              "            </tr>\n",
              "            <tr>\n",
              "                        <th id=\"T_71b345be_7ac5_11ea_9194_0242ac1c0002level0_row8\" class=\"row_heading level0 row8\" >2008-12-31 00:00:00</th>\n",
              "                        <td id=\"T_71b345be_7ac5_11ea_9194_0242ac1c0002row8_col0\" class=\"data row8 col0\" >649.6800</td>\n",
              "                        <td id=\"T_71b345be_7ac5_11ea_9194_0242ac1c0002row8_col1\" class=\"data row8 col1\" >486.3500</td>\n",
              "                        <td id=\"T_71b345be_7ac5_11ea_9194_0242ac1c0002row8_col2\" class=\"data row8 col2\" >65.0000</td>\n",
              "                        <td id=\"T_71b345be_7ac5_11ea_9194_0242ac1c0002row8_col3\" class=\"data row8 col3\" >5.2000</td>\n",
              "            </tr>\n",
              "            <tr>\n",
              "                        <th id=\"T_71b345be_7ac5_11ea_9194_0242ac1c0002level0_row9\" class=\"row_heading level0 row9\" >2009-12-31 00:00:00</th>\n",
              "                        <td id=\"T_71b345be_7ac5_11ea_9194_0242ac1c0002row9_col0\" class=\"data row9 col0\" >746.5200</td>\n",
              "                        <td id=\"T_71b345be_7ac5_11ea_9194_0242ac1c0002row9_col1\" class=\"data row9 col1\" >477.5300</td>\n",
              "                        <td id=\"T_71b345be_7ac5_11ea_9194_0242ac1c0002row9_col2\" class=\"data row9 col2\" >58.0000</td>\n",
              "                        <td id=\"T_71b345be_7ac5_11ea_9194_0242ac1c0002row9_col3\" class=\"data row9 col3\" >7.0000</td>\n",
              "            </tr>\n",
              "            <tr>\n",
              "                        <th id=\"T_71b345be_7ac5_11ea_9194_0242ac1c0002level0_row10\" class=\"row_heading level0 row10\" >2010-12-31 00:00:00</th>\n",
              "                        <td id=\"T_71b345be_7ac5_11ea_9194_0242ac1c0002row10_col0\" class=\"data row10 col0\" >887.6200</td>\n",
              "                        <td id=\"T_71b345be_7ac5_11ea_9194_0242ac1c0002row10_col1\" class=\"data row10 col1\" >527.3200</td>\n",
              "                        <td id=\"T_71b345be_7ac5_11ea_9194_0242ac1c0002row10_col2\" class=\"data row10 col2\" >62.0000</td>\n",
              "                        <td id=\"T_71b345be_7ac5_11ea_9194_0242ac1c0002row10_col3\" class=\"data row10 col3\" >7.0000</td>\n",
              "            </tr>\n",
              "    </tbody></table>"
            ],
            "text/plain": [
              "<pandas.io.formats.style.Styler at 0x7f46bbb9f8d0>"
            ]
          },
          "metadata": {
            "tags": []
          },
          "execution_count": 15
        }
      ]
    },
    {
      "cell_type": "code",
      "metadata": {
        "id": "sNKyAr0zkgBO",
        "colab_type": "code",
        "colab": {
          "base_uri": "https://localhost:8080/",
          "height": 248
        },
        "outputId": "5cc215d2-8702-47ea-e3e4-12617c95143e"
      },
      "source": [
        "df.sum().plot.pie();"
      ],
      "execution_count": 16,
      "outputs": [
        {
          "output_type": "display_data",
          "data": {
            "image/png": "[encoded data removed]",
            "text/plain": [
              "<Figure size 432x288 with 1 Axes>"
            ]
          },
          "metadata": {
            "tags": []
          }
        }
      ]
    },
    {
      "cell_type": "code",
      "metadata": {
        "id": "ZxQRX-3Tk0Ip",
        "colab_type": "code",
        "colab": {
          "base_uri": "https://localhost:8080/",
          "height": 279
        },
        "outputId": "5d326cc3-d301-4cda-aef3-40ed50bef3b3"
      },
      "source": [
        "df.plot();"
      ],
      "execution_count": 18,
      "outputs": [
        {
          "output_type": "display_data",
          "data": {
            "image/png": "[encoded data removed]",
            "text/plain": [
              "<Figure size 432x288 with 1 Axes>"
            ]
          },
          "metadata": {
            "tags": []
          }
        }
      ]
    },
    {
      "cell_type": "code",
      "metadata": {
        "id": "Y5lhGcEhk6CY",
        "colab_type": "code",
        "colab": {
          "base_uri": "https://localhost:8080/",
          "height": 279
        },
        "outputId": "7e316731-0855-4b09-c003-e3ea5b9042de"
      },
      "source": [
        "df.plot(marker='o');"
      ],
      "execution_count": 19,
      "outputs": [
        {
          "output_type": "display_data",
          "data": {
            "image/png": "[encoded data removed]",
            "text/plain": [
              "<Figure size 432x288 with 1 Axes>"
            ]
          },
          "metadata": {
            "tags": []
          }
        }
      ]
    },
    {
      "cell_type": "code",
      "metadata": {
        "id": "F7p3yqaqk8pY",
        "colab_type": "code",
        "colab": {
          "base_uri": "https://localhost:8080/",
          "height": 403
        },
        "outputId": "bd62f8ac-6c79-45ce-cf32-b24e4a773eaf"
      },
      "source": [
        "df.plot(\n",
        "    subplots=True,\n",
        "    lw=2,\n",
        "    marker='s',\n",
        "    alpha=0.7,\n",
        "    layout=(2,2),\n",
        "    figsize=(12,6),\n",
        "    grid=True,\n",
        "    rot=45,\n",
        "    sharex=False\n",
        ");"
      ],
      "execution_count": 20,
      "outputs": [
        {
          "output_type": "display_data",
          "data": {
            "image/png": "[encoded data removed]",
            "text/plain": [
              "<Figure size 864x432 with 4 Axes>"
            ]
          },
          "metadata": {
            "tags": []
          }
        }
      ]
    },
    {
      "cell_type": "code",
      "metadata": {
        "id": "dSe_3ZAJk_ZU",
        "colab_type": "code",
        "colab": {
          "base_uri": "https://localhost:8080/",
          "height": 279
        },
        "outputId": "f24328f8-76b0-42a3-eaaa-57cfcfd0af1e"
      },
      "source": [
        "for i, cols in df.iteritems():\n",
        "    if cols.sum() > 3000:\n",
        "        cols.plot(label=i, legend=True, marker='^', markerfacecolor='m')    "
      ],
      "execution_count": 21,
      "outputs": [
        {
          "output_type": "display_data",
          "data": {
            "image/png": "[encoded data removed]",
            "text/plain": [
              "<Figure size 432x288 with 1 Axes>"
            ]
          },
          "metadata": {
            "tags": []
          }
        }
      ]
    },
    {
      "cell_type": "code",
      "metadata": {
        "id": "fFHBKkK8knSK",
        "colab_type": "code",
        "colab": {
          "base_uri": "https://localhost:8080/",
          "height": 279
        },
        "outputId": "9112d029-bc2e-4a76-afdd-b2c9a02d1db2"
      },
      "source": [
        "df.sum(axis=1).plot(lw=3);"
      ],
      "execution_count": 17,
      "outputs": [
        {
          "output_type": "display_data",
          "data": {
            "image/png": "[encoded data removed]",
            "text/plain": [
              "<Figure size 432x288 with 1 Axes>"
            ]
          },
          "metadata": {
            "tags": []
          }
        }
      ]
    },
    {
      "cell_type": "code",
      "metadata": {
        "id": "vmV17G3wknO2",
        "colab_type": "code",
        "colab": {
          "base_uri": "https://localhost:8080/",
          "height": 279
        },
        "outputId": "e0426e2e-06d4-4106-dcf5-746c4f52728f"
      },
      "source": [
        "df.plot.area();"
      ],
      "execution_count": 22,
      "outputs": [
        {
          "output_type": "display_data",
          "data": {
            "image/png": "[encoded data removed]",
            "text/plain": [
              "<Figure size 432x288 with 1 Axes>"
            ]
          },
          "metadata": {
            "tags": []
          }
        }
      ]
    },
    {
      "cell_type": "code",
      "metadata": {
        "id": "KUQxet4HknML",
        "colab_type": "code",
        "colab": {
          "base_uri": "https://localhost:8080/",
          "height": 279
        },
        "outputId": "f7dee869-f18a-44fb-891a-687352afbab7"
      },
      "source": [
        "df.plot.area(stacked=False);"
      ],
      "execution_count": 23,
      "outputs": [
        {
          "output_type": "display_data",
          "data": {
            "image/png": "[encoded data removed]",
            "text/plain": [
              "<Figure size 432x288 with 1 Axes>"
            ]
          },
          "metadata": {
            "tags": []
          }
        }
      ]
    },
    {
      "cell_type": "code",
      "metadata": {
        "id": "pZqb9n_1lTYp",
        "colab_type": "code",
        "colab": {
          "base_uri": "https://localhost:8080/",
          "height": 374
        },
        "outputId": "47bf26fe-fe1c-40b9-af8b-c8bb5465a582"
      },
      "source": [
        "df.plot.bar();"
      ],
      "execution_count": 26,
      "outputs": [
        {
          "output_type": "display_data",
          "data": {
            "image/png": "[encoded data removed]",
            "text/plain": [
              "<Figure size 432x288 with 1 Axes>"
            ]
          },
          "metadata": {
            "tags": []
          }
        }
      ]
    },
    {
      "cell_type": "code",
      "metadata": {
        "id": "RIyZxOe7lYn5",
        "colab_type": "code",
        "colab": {
          "base_uri": "https://localhost:8080/",
          "height": 277
        },
        "outputId": "4edfbd83-e435-4dbc-b76e-a998fdd605cb"
      },
      "source": [
        "df.sum().plot.bar();"
      ],
      "execution_count": 27,
      "outputs": [
        {
          "output_type": "display_data",
          "data": {
            "image/png": "[encoded data removed]",
            "text/plain": [
              "<Figure size 432x288 with 1 Axes>"
            ]
          },
          "metadata": {
            "tags": []
          }
        }
      ]
    },
    {
      "cell_type": "code",
      "metadata": {
        "id": "MOPT2hJVknJW",
        "colab_type": "code",
        "colab": {
          "base_uri": "https://localhost:8080/",
          "height": 295
        },
        "outputId": "49d6d7bb-66da-4f24-8855-608a688b13d3"
      },
      "source": [
        "df.assign(PERIOD = df.index.year)\\\n",
        ".plot.bar(x='PERIOD', y=['BRA','USA']);"
      ],
      "execution_count": 24,
      "outputs": [
        {
          "output_type": "display_data",
          "data": {
            "image/png": "[encoded data removed]",
            "text/plain": [
              "<Figure size 432x288 with 1 Axes>"
            ]
          },
          "metadata": {
            "tags": []
          }
        }
      ]
    },
    {
      "cell_type": "code",
      "metadata": {
        "id": "LaobjyRIlK5p",
        "colab_type": "code",
        "colab": {
          "base_uri": "https://localhost:8080/",
          "height": 265
        },
        "outputId": "87cf536c-7ab7-4bd5-af23-2dae2ba58169"
      },
      "source": [
        "df.assign(PERIOD = df.index.year)\\\n",
        ".plot.barh(x='PERIOD', y=['DEU','IND'], stacked=True);"
      ],
      "execution_count": 29,
      "outputs": [
        {
          "output_type": "display_data",
          "data": {
            "image/png": "[encoded data removed]",
            "text/plain": [
              "<Figure size 432x288 with 1 Axes>"
            ]
          },
          "metadata": {
            "tags": []
          }
        }
      ]
    },
    {
      "cell_type": "code",
      "metadata": {
        "id": "hdFZEH08lK1x",
        "colab_type": "code",
        "colab": {
          "base_uri": "https://localhost:8080/",
          "height": 279
        },
        "outputId": "aa2b5b0b-5824-4823-fe71-f39a5c5ee15a"
      },
      "source": [
        "df.plot.scatter(x='USA', y='BRA', s=50, alpha=.5, grid=True);"
      ],
      "execution_count": 31,
      "outputs": [
        {
          "output_type": "display_data",
          "data": {
            "image/png": "[encoded data removed]",
            "text/plain": [
              "<Figure size 432x288 with 1 Axes>"
            ]
          },
          "metadata": {
            "tags": []
          }
        }
      ]
    },
    {
      "cell_type": "code",
      "metadata": {
        "id": "hUA3MKwilKyF",
        "colab_type": "code",
        "colab": {
          "base_uri": "https://localhost:8080/",
          "height": 265
        },
        "outputId": "b9c7e705-fdb4-4901-ae9d-ef6aaf7c95ab"
      },
      "source": [
        "df.plot.box();"
      ],
      "execution_count": 32,
      "outputs": [
        {
          "output_type": "display_data",
          "data": {
            "image/png": "[encoded data removed]",
            "text/plain": [
              "<Figure size 432x288 with 1 Axes>"
            ]
          },
          "metadata": {
            "tags": []
          }
        }
      ]
    },
    {
      "cell_type": "code",
      "metadata": {
        "id": "NL6p1Sa4knBR",
        "colab_type": "code",
        "colab": {
          "base_uri": "https://localhost:8080/",
          "height": 809
        },
        "outputId": "04a9bd04-1588-4e97-f5a6-8f78cd7b9ae9"
      },
      "source": [
        "df.plot.hist(subplots=True,figsize=(6, 14), sharex=False);"
      ],
      "execution_count": 33,
      "outputs": [
        {
          "output_type": "display_data",
          "data": {
            "image/png": "[encoded data removed]",
            "text/plain": [
              "<Figure size 432x1008 with 4 Axes>"
            ]
          },
          "metadata": {
            "tags": []
          }
        }
      ]
    },
    {
      "cell_type": "code",
      "metadata": {
        "id": "1ELALZagj6Y7",
        "colab_type": "code",
        "colab": {
          "base_uri": "https://localhost:8080/",
          "height": 1000
        },
        "outputId": "71534910-769d-43ab-c774-ab529d6155c3"
      },
      "source": [
        "df.reset_index().melt(id_vars=['YEAR'], var_name=['COUNTRY'], value_name='PRODUCTION')"
      ],
      "execution_count": 34,
      "outputs": [
        {
          "output_type": "execute_result",
          "data": {
            "text/html": [
              "<div>\n",
              "<style scoped>\n",
              "    .dataframe tbody tr th:only-of-type {\n",
              "        vertical-align: middle;\n",
              "    }\n",
              "\n",
              "    .dataframe tbody tr th {\n",
              "        vertical-align: top;\n",
              "    }\n",
              "\n",
              "    .dataframe thead th {\n",
              "        text-align: right;\n",
              "    }\n",
              "</style>\n",
              "<table border=\"1\" class=\"dataframe\">\n",
              "  <thead>\n",
              "    <tr style=\"text-align: right;\">\n",
              "      <th></th>\n",
              "      <th>YEAR</th>\n",
              "      <th>COUNTRY</th>\n",
              "      <th>PRODUCTION</th>\n",
              "    </tr>\n",
              "  </thead>\n",
              "  <tbody>\n",
              "    <tr>\n",
              "      <th>0</th>\n",
              "      <td>2000-12-31</td>\n",
              "      <td>USA</td>\n",
              "      <td>105.54</td>\n",
              "    </tr>\n",
              "    <tr>\n",
              "      <th>1</th>\n",
              "      <td>2001-12-31</td>\n",
              "      <td>USA</td>\n",
              "      <td>115.71</td>\n",
              "    </tr>\n",
              "    <tr>\n",
              "      <th>2</th>\n",
              "      <td>2002-12-31</td>\n",
              "      <td>USA</td>\n",
              "      <td>140.29</td>\n",
              "    </tr>\n",
              "    <tr>\n",
              "      <th>3</th>\n",
              "      <td>2003-12-31</td>\n",
              "      <td>USA</td>\n",
              "      <td>183.87</td>\n",
              "    </tr>\n",
              "    <tr>\n",
              "      <th>4</th>\n",
              "      <td>2004-12-31</td>\n",
              "      <td>USA</td>\n",
              "      <td>223.29</td>\n",
              "    </tr>\n",
              "    <tr>\n",
              "      <th>5</th>\n",
              "      <td>2005-12-31</td>\n",
              "      <td>USA</td>\n",
              "      <td>260.61</td>\n",
              "    </tr>\n",
              "    <tr>\n",
              "      <th>6</th>\n",
              "      <td>2006-12-31</td>\n",
              "      <td>USA</td>\n",
              "      <td>334.95</td>\n",
              "    </tr>\n",
              "    <tr>\n",
              "      <th>7</th>\n",
              "      <td>2007-12-31</td>\n",
              "      <td>USA</td>\n",
              "      <td>457.33</td>\n",
              "    </tr>\n",
              "    <tr>\n",
              "      <th>8</th>\n",
              "      <td>2008-12-31</td>\n",
              "      <td>USA</td>\n",
              "      <td>649.68</td>\n",
              "    </tr>\n",
              "    <tr>\n",
              "      <th>9</th>\n",
              "      <td>2009-12-31</td>\n",
              "      <td>USA</td>\n",
              "      <td>746.52</td>\n",
              "    </tr>\n",
              "    <tr>\n",
              "      <th>10</th>\n",
              "      <td>2010-12-31</td>\n",
              "      <td>USA</td>\n",
              "      <td>887.62</td>\n",
              "    </tr>\n",
              "    <tr>\n",
              "      <th>11</th>\n",
              "      <td>2000-12-31</td>\n",
              "      <td>BRA</td>\n",
              "      <td>183.89</td>\n",
              "    </tr>\n",
              "    <tr>\n",
              "      <th>12</th>\n",
              "      <td>2001-12-31</td>\n",
              "      <td>BRA</td>\n",
              "      <td>197.59</td>\n",
              "    </tr>\n",
              "    <tr>\n",
              "      <th>13</th>\n",
              "      <td>2002-12-31</td>\n",
              "      <td>BRA</td>\n",
              "      <td>216.93</td>\n",
              "    </tr>\n",
              "    <tr>\n",
              "      <th>14</th>\n",
              "      <td>2003-12-31</td>\n",
              "      <td>BRA</td>\n",
              "      <td>249.35</td>\n",
              "    </tr>\n",
              "    <tr>\n",
              "      <th>15</th>\n",
              "      <td>2004-12-31</td>\n",
              "      <td>BRA</td>\n",
              "      <td>251.72</td>\n",
              "    </tr>\n",
              "    <tr>\n",
              "      <th>16</th>\n",
              "      <td>2005-12-31</td>\n",
              "      <td>BRA</td>\n",
              "      <td>276.42</td>\n",
              "    </tr>\n",
              "    <tr>\n",
              "      <th>17</th>\n",
              "      <td>2006-12-31</td>\n",
              "      <td>BRA</td>\n",
              "      <td>307.31</td>\n",
              "    </tr>\n",
              "    <tr>\n",
              "      <th>18</th>\n",
              "      <td>2007-12-31</td>\n",
              "      <td>BRA</td>\n",
              "      <td>395.68</td>\n",
              "    </tr>\n",
              "    <tr>\n",
              "      <th>19</th>\n",
              "      <td>2008-12-31</td>\n",
              "      <td>BRA</td>\n",
              "      <td>486.35</td>\n",
              "    </tr>\n",
              "    <tr>\n",
              "      <th>20</th>\n",
              "      <td>2009-12-31</td>\n",
              "      <td>BRA</td>\n",
              "      <td>477.53</td>\n",
              "    </tr>\n",
              "    <tr>\n",
              "      <th>21</th>\n",
              "      <td>2010-12-31</td>\n",
              "      <td>BRA</td>\n",
              "      <td>527.32</td>\n",
              "    </tr>\n",
              "    <tr>\n",
              "      <th>22</th>\n",
              "      <td>2000-12-31</td>\n",
              "      <td>DEU</td>\n",
              "      <td>4.30</td>\n",
              "    </tr>\n",
              "    <tr>\n",
              "      <th>23</th>\n",
              "      <td>2001-12-31</td>\n",
              "      <td>DEU</td>\n",
              "      <td>5.40</td>\n",
              "    </tr>\n",
              "    <tr>\n",
              "      <th>24</th>\n",
              "      <td>2002-12-31</td>\n",
              "      <td>DEU</td>\n",
              "      <td>8.80</td>\n",
              "    </tr>\n",
              "    <tr>\n",
              "      <th>25</th>\n",
              "      <td>2003-12-31</td>\n",
              "      <td>DEU</td>\n",
              "      <td>14.00</td>\n",
              "    </tr>\n",
              "    <tr>\n",
              "      <th>26</th>\n",
              "      <td>2004-12-31</td>\n",
              "      <td>DEU</td>\n",
              "      <td>20.40</td>\n",
              "    </tr>\n",
              "    <tr>\n",
              "      <th>27</th>\n",
              "      <td>2005-12-31</td>\n",
              "      <td>DEU</td>\n",
              "      <td>35.80</td>\n",
              "    </tr>\n",
              "    <tr>\n",
              "      <th>28</th>\n",
              "      <td>2006-12-31</td>\n",
              "      <td>DEU</td>\n",
              "      <td>59.40</td>\n",
              "    </tr>\n",
              "    <tr>\n",
              "      <th>29</th>\n",
              "      <td>2007-12-31</td>\n",
              "      <td>DEU</td>\n",
              "      <td>63.80</td>\n",
              "    </tr>\n",
              "    <tr>\n",
              "      <th>30</th>\n",
              "      <td>2008-12-31</td>\n",
              "      <td>DEU</td>\n",
              "      <td>65.00</td>\n",
              "    </tr>\n",
              "    <tr>\n",
              "      <th>31</th>\n",
              "      <td>2009-12-31</td>\n",
              "      <td>DEU</td>\n",
              "      <td>58.00</td>\n",
              "    </tr>\n",
              "    <tr>\n",
              "      <th>32</th>\n",
              "      <td>2010-12-31</td>\n",
              "      <td>DEU</td>\n",
              "      <td>62.00</td>\n",
              "    </tr>\n",
              "    <tr>\n",
              "      <th>33</th>\n",
              "      <td>2000-12-31</td>\n",
              "      <td>IND</td>\n",
              "      <td>2.90</td>\n",
              "    </tr>\n",
              "    <tr>\n",
              "      <th>34</th>\n",
              "      <td>2001-12-31</td>\n",
              "      <td>IND</td>\n",
              "      <td>3.00</td>\n",
              "    </tr>\n",
              "    <tr>\n",
              "      <th>35</th>\n",
              "      <td>2002-12-31</td>\n",
              "      <td>IND</td>\n",
              "      <td>3.20</td>\n",
              "    </tr>\n",
              "    <tr>\n",
              "      <th>36</th>\n",
              "      <td>2003-12-31</td>\n",
              "      <td>IND</td>\n",
              "      <td>3.30</td>\n",
              "    </tr>\n",
              "    <tr>\n",
              "      <th>37</th>\n",
              "      <td>2004-12-31</td>\n",
              "      <td>IND</td>\n",
              "      <td>3.50</td>\n",
              "    </tr>\n",
              "    <tr>\n",
              "      <th>38</th>\n",
              "      <td>2005-12-31</td>\n",
              "      <td>IND</td>\n",
              "      <td>3.90</td>\n",
              "    </tr>\n",
              "    <tr>\n",
              "      <th>39</th>\n",
              "      <td>2006-12-31</td>\n",
              "      <td>IND</td>\n",
              "      <td>4.50</td>\n",
              "    </tr>\n",
              "    <tr>\n",
              "      <th>40</th>\n",
              "      <td>2007-12-31</td>\n",
              "      <td>IND</td>\n",
              "      <td>4.70</td>\n",
              "    </tr>\n",
              "    <tr>\n",
              "      <th>41</th>\n",
              "      <td>2008-12-31</td>\n",
              "      <td>IND</td>\n",
              "      <td>5.20</td>\n",
              "    </tr>\n",
              "    <tr>\n",
              "      <th>42</th>\n",
              "      <td>2009-12-31</td>\n",
              "      <td>IND</td>\n",
              "      <td>7.00</td>\n",
              "    </tr>\n",
              "    <tr>\n",
              "      <th>43</th>\n",
              "      <td>2010-12-31</td>\n",
              "      <td>IND</td>\n",
              "      <td>7.00</td>\n",
              "    </tr>\n",
              "  </tbody>\n",
              "</table>\n",
              "</div>"
            ],
            "text/plain": [
              "         YEAR COUNTRY  PRODUCTION\n",
              "0  2000-12-31     USA      105.54\n",
              "1  2001-12-31     USA      115.71\n",
              "2  2002-12-31     USA      140.29\n",
              "3  2003-12-31     USA      183.87\n",
              "4  2004-12-31     USA      223.29\n",
              "5  2005-12-31     USA      260.61\n",
              "6  2006-12-31     USA      334.95\n",
              "7  2007-12-31     USA      457.33\n",
              "8  2008-12-31     USA      649.68\n",
              "9  2009-12-31     USA      746.52\n",
              "10 2010-12-31     USA      887.62\n",
              "11 2000-12-31     BRA      183.89\n",
              "12 2001-12-31     BRA      197.59\n",
              "13 2002-12-31     BRA      216.93\n",
              "14 2003-12-31     BRA      249.35\n",
              "15 2004-12-31     BRA      251.72\n",
              "16 2005-12-31     BRA      276.42\n",
              "17 2006-12-31     BRA      307.31\n",
              "18 2007-12-31     BRA      395.68\n",
              "19 2008-12-31     BRA      486.35\n",
              "20 2009-12-31     BRA      477.53\n",
              "21 2010-12-31     BRA      527.32\n",
              "22 2000-12-31     DEU        4.30\n",
              "23 2001-12-31     DEU        5.40\n",
              "24 2002-12-31     DEU        8.80\n",
              "25 2003-12-31     DEU       14.00\n",
              "26 2004-12-31     DEU       20.40\n",
              "27 2005-12-31     DEU       35.80\n",
              "28 2006-12-31     DEU       59.40\n",
              "29 2007-12-31     DEU       63.80\n",
              "30 2008-12-31     DEU       65.00\n",
              "31 2009-12-31     DEU       58.00\n",
              "32 2010-12-31     DEU       62.00\n",
              "33 2000-12-31     IND        2.90\n",
              "34 2001-12-31     IND        3.00\n",
              "35 2002-12-31     IND        3.20\n",
              "36 2003-12-31     IND        3.30\n",
              "37 2004-12-31     IND        3.50\n",
              "38 2005-12-31     IND        3.90\n",
              "39 2006-12-31     IND        4.50\n",
              "40 2007-12-31     IND        4.70\n",
              "41 2008-12-31     IND        5.20\n",
              "42 2009-12-31     IND        7.00\n",
              "43 2010-12-31     IND        7.00"
            ]
          },
          "metadata": {
            "tags": []
          },
          "execution_count": 34
        }
      ]
    },
    {
      "cell_type": "code",
      "metadata": {
        "id": "DrT_KLm9j8Uf",
        "colab_type": "code",
        "colab": {
          "base_uri": "https://localhost:8080/",
          "height": 263
        },
        "outputId": "2c9c6e7a-dbce-48d3-d80e-3e62ae146b51"
      },
      "source": [
        "xf = df.reset_index().melt(id_vars=['YEAR'], var_name=['COUNTRY'], value_name='PRODUCTION')\n",
        "\n",
        "xf.pivot_table(index='COUNTRY', columns='YEAR', values='PRODUCTION', aggfunc=sum, margins=True)"
      ],
      "execution_count": 37,
      "outputs": [
        {
          "output_type": "execute_result",
          "data": {
            "text/html": [
              "<div>\n",
              "<style scoped>\n",
              "    .dataframe tbody tr th:only-of-type {\n",
              "        vertical-align: middle;\n",
              "    }\n",
              "\n",
              "    .dataframe tbody tr th {\n",
              "        vertical-align: top;\n",
              "    }\n",
              "\n",
              "    .dataframe thead th {\n",
              "        text-align: right;\n",
              "    }\n",
              "</style>\n",
              "<table border=\"1\" class=\"dataframe\">\n",
              "  <thead>\n",
              "    <tr style=\"text-align: right;\">\n",
              "      <th>YEAR</th>\n",
              "      <th>2000-12-31 00:00:00</th>\n",
              "      <th>2001-12-31 00:00:00</th>\n",
              "      <th>2002-12-31 00:00:00</th>\n",
              "      <th>2003-12-31 00:00:00</th>\n",
              "      <th>2004-12-31 00:00:00</th>\n",
              "      <th>2005-12-31 00:00:00</th>\n",
              "      <th>2006-12-31 00:00:00</th>\n",
              "      <th>2007-12-31 00:00:00</th>\n",
              "      <th>2008-12-31 00:00:00</th>\n",
              "      <th>2009-12-31 00:00:00</th>\n",
              "      <th>2010-12-31 00:00:00</th>\n",
              "      <th>All</th>\n",
              "    </tr>\n",
              "    <tr>\n",
              "      <th>COUNTRY</th>\n",
              "      <th></th>\n",
              "      <th></th>\n",
              "      <th></th>\n",
              "      <th></th>\n",
              "      <th></th>\n",
              "      <th></th>\n",
              "      <th></th>\n",
              "      <th></th>\n",
              "      <th></th>\n",
              "      <th></th>\n",
              "      <th></th>\n",
              "      <th></th>\n",
              "    </tr>\n",
              "  </thead>\n",
              "  <tbody>\n",
              "    <tr>\n",
              "      <th>BRA</th>\n",
              "      <td>183.89</td>\n",
              "      <td>197.59</td>\n",
              "      <td>216.93</td>\n",
              "      <td>249.35</td>\n",
              "      <td>251.72</td>\n",
              "      <td>276.42</td>\n",
              "      <td>307.31</td>\n",
              "      <td>395.68</td>\n",
              "      <td>486.35</td>\n",
              "      <td>477.53</td>\n",
              "      <td>527.32</td>\n",
              "      <td>3570.09</td>\n",
              "    </tr>\n",
              "    <tr>\n",
              "      <th>DEU</th>\n",
              "      <td>4.30</td>\n",
              "      <td>5.40</td>\n",
              "      <td>8.80</td>\n",
              "      <td>14.00</td>\n",
              "      <td>20.40</td>\n",
              "      <td>35.80</td>\n",
              "      <td>59.40</td>\n",
              "      <td>63.80</td>\n",
              "      <td>65.00</td>\n",
              "      <td>58.00</td>\n",
              "      <td>62.00</td>\n",
              "      <td>396.90</td>\n",
              "    </tr>\n",
              "    <tr>\n",
              "      <th>IND</th>\n",
              "      <td>2.90</td>\n",
              "      <td>3.00</td>\n",
              "      <td>3.20</td>\n",
              "      <td>3.30</td>\n",
              "      <td>3.50</td>\n",
              "      <td>3.90</td>\n",
              "      <td>4.50</td>\n",
              "      <td>4.70</td>\n",
              "      <td>5.20</td>\n",
              "      <td>7.00</td>\n",
              "      <td>7.00</td>\n",
              "      <td>48.20</td>\n",
              "    </tr>\n",
              "    <tr>\n",
              "      <th>USA</th>\n",
              "      <td>105.54</td>\n",
              "      <td>115.71</td>\n",
              "      <td>140.29</td>\n",
              "      <td>183.87</td>\n",
              "      <td>223.29</td>\n",
              "      <td>260.61</td>\n",
              "      <td>334.95</td>\n",
              "      <td>457.33</td>\n",
              "      <td>649.68</td>\n",
              "      <td>746.52</td>\n",
              "      <td>887.62</td>\n",
              "      <td>4105.41</td>\n",
              "    </tr>\n",
              "    <tr>\n",
              "      <th>All</th>\n",
              "      <td>296.63</td>\n",
              "      <td>321.70</td>\n",
              "      <td>369.22</td>\n",
              "      <td>450.52</td>\n",
              "      <td>498.91</td>\n",
              "      <td>576.73</td>\n",
              "      <td>706.16</td>\n",
              "      <td>921.51</td>\n",
              "      <td>1206.23</td>\n",
              "      <td>1289.05</td>\n",
              "      <td>1483.94</td>\n",
              "      <td>8120.60</td>\n",
              "    </tr>\n",
              "  </tbody>\n",
              "</table>\n",
              "</div>"
            ],
            "text/plain": [
              "YEAR     2000-12-31 00:00:00  2001-12-31 00:00:00  ...  2010-12-31 00:00:00      All\n",
              "COUNTRY                                            ...                              \n",
              "BRA                   183.89               197.59  ...               527.32  3570.09\n",
              "DEU                     4.30                 5.40  ...                62.00   396.90\n",
              "IND                     2.90                 3.00  ...                 7.00    48.20\n",
              "USA                   105.54               115.71  ...               887.62  4105.41\n",
              "All                   296.63               321.70  ...              1483.94  8120.60\n",
              "\n",
              "[5 rows x 12 columns]"
            ]
          },
          "metadata": {
            "tags": []
          },
          "execution_count": 37
        }
      ]
    },
    {
      "cell_type": "code",
      "metadata": {
        "id": "YUbAUYVqj-o2",
        "colab_type": "code",
        "colab": {}
      },
      "source": [
        ""
      ],
      "execution_count": 0,
      "outputs": []
    }
  ]
}