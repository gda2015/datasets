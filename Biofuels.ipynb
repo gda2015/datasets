{
  "cells": [
    {
      "cell_type": "markdown",
      "metadata": {
        "colab_type": "text",
        "id": "view-in-github"
      },
      "source": [
        "<a href=\"https://colab.research.google.com/github/gda2015/datasets/blob/master/Biofuels.ipynb\" target=\"_parent\"><img src=\"https://colab.research.google.com/assets/colab-badge.svg\" alt=\"Open In Colab\"/></a>"
      ]
    },
    {
      "cell_type": "code",
      "execution_count": null,
      "metadata": {
        "colab": {
          "base_uri": "https://localhost:8080/",
          "height": 34
        },
        "colab_type": "code",
        "id": "U_BBkc9YjJjc",
        "outputId": "c41a4fd0-2277-4b01-9df4-b652fe475dfd"
      },
      "outputs": [],
      "source": [
        "import pandas as pd\n",
        "import numpy as np\n",
        "import matplotlib.pyplot as plt\n",
        "\n",
        "FIGSIZE = (8,4)\n",
        "FONTFAMILY = 'serif'\n",
        "FONTSIZE = 10\n",
        "\n",
        "\n",
        "def set_spacelab_theme():\n",
        "    spacelab_styles = {\n",
        "        'axes.edgecolor': '#cccccc',\n",
        "        'axes.facecolor': '#eeeeee',\n",
        "        'axes.labelcolor': '#555555',\n",
        "        'axes.spines.bottom': True,\n",
        "        'axes.spines.left': True,\n",
        "        'axes.spines.right': False,\n",
        "        'axes.spines.top': False,        \n",
        "        \"figure.figsize\": FIGSIZE,\n",
        "        'font.family': FONTFAMILY,\n",
        "        'font.size': FONTSIZE,\n",
        "        'grid.color': '#cccccc',\n",
        "        'grid.linestyle': '--',\n",
        "        'grid.linewidth': 0.5,\n",
        "        'legend.facecolor': '#ffffff',\n",
        "        'legend.fontsize': 'medium',\n",
        "        'legend.frameon': True,\n",
        "        'legend.framealpha': 0.8,\n",
        "        'legend.edgecolor': '#555555',\n",
        "        'lines.linewidth': 2.0,\n",
        "        'text.color': '#555555',\n",
        "        'xtick.bottom': True,\n",
        "        'xtick.color': '#555555',\n",
        "        'xtick.direction': 'out',\n",
        "        'xtick.top': False,\n",
        "        'ytick.color': '#555555',\n",
        "        'ytick.direction': 'out',\n",
        "        'ytick.left': True,\n",
        "        'ytick.right': False\n",
        "    }\n",
        "\n",
        "    plt.style.use(spacelab_styles)\n",
        "\n",
        "def set_flatly_theme():\n",
        "    flatly_styles = {\n",
        "        \"axes.edgecolor\": \"#ffffff\",\n",
        "        \"axes.facecolor\": \"#ffffff\",\n",
        "        \"axes.labelcolor\": \"#323232\",\n",
        "        \"xtick.color\": \"#323232\",\n",
        "        \"ytick.color\": \"#323232\",\n",
        "        \"grid.color\": \"#d9d9d9\",\n",
        "        \"figure.facecolor\": \"#ffffff\",\n",
        "        \"figure.edgecolor\": \"#ffffff\",\n",
        "        \"figure.figsize\": FIGSIZE,\n",
        "        'font.family': FONTFAMILY,\n",
        "        'font.size': FONTSIZE,\n",
        "        \"savefig.facecolor\": \"#ffffff\",\n",
        "        \"savefig.edgecolor\": \"#ffffff\",\n",
        "        \"text.color\": \"#323232\"\n",
        "    }\n",
        "\n",
        "    plt.style.use(flatly_styles)\n",
        "\n",
        "def set_lux_theme():\n",
        "    lux_styles = {\n",
        "        \"axes.edgecolor\": \"#ffffff\",\n",
        "        \"axes.facecolor\": \"#f7f7f9\",\n",
        "        \"axes.labelcolor\": \"#323232\",\n",
        "        \"xtick.color\": \"#323232\",\n",
        "        \"ytick.color\": \"#323232\",\n",
        "        \"grid.color\": \"#d9d9d9\",\n",
        "        \"figure.facecolor\": \"#f7f7f9\",\n",
        "        \"figure.edgecolor\": \"#f7f7f9\",\n",
        "        \"figure.figsize\": FIGSIZE,\n",
        "        'font.family': FONTFAMILY,\n",
        "        'font.size': FONTSIZE,\n",
        "        \"savefig.facecolor\": \"#f7f7f9\",\n",
        "        \"savefig.edgecolor\": \"#f7f7f9\",\n",
        "        \"text.color\": \"#323232\"\n",
        "    }\n",
        "\n",
        "    plt.style.use(lux_styles)\n",
        "\n",
        "def set_darkly_theme():\n",
        "    darkly_styles = {\n",
        "        \"axes.edgecolor\": \"#ffffff\",\n",
        "        \"axes.facecolor\": \"#343a40\",\n",
        "        \"axes.labelcolor\": \"#ffffff\",\n",
        "        \"xtick.color\": \"#ffffff\",\n",
        "        \"ytick.color\": \"#ffffff\",\n",
        "        \"grid.color\": \"#6c757d\",\n",
        "        \"figure.facecolor\": \"#343a40\",\n",
        "        \"figure.edgecolor\": \"#343a40\",\n",
        "        \"figure.figsize\": FIGSIZE,\n",
        "        'font.family': FONTFAMILY,\n",
        "        'font.size': FONTSIZE,\n",
        "        \"savefig.facecolor\": \"#343a40\",\n",
        "        \"savefig.edgecolor\": \"#343a40\",\n",
        "        \"text.color\": \"#ffffff\"\n",
        "    }\n",
        "\n",
        "    plt.style.use(darkly_styles)\n",
        "\n",
        "def set_slate_theme():\n",
        "    slate_styles = {\n",
        "        \"axes.edgecolor\": \"#ffffff\",\n",
        "        \"axes.facecolor\": \"#2c3e50\",\n",
        "        \"axes.labelcolor\": \"#ffffff\",\n",
        "        \"xtick.color\": \"#ffffff\",\n",
        "        \"ytick.color\": \"#ffffff\",\n",
        "        \"grid.color\": \"#6c7a89\",\n",
        "        \"figure.facecolor\": \"#2c3e50\",\n",
        "        \"figure.edgecolor\": \"#2c3e50\",\n",
        "        \"figure.figsize\": FIGSIZE,\n",
        "        'font.family': FONTFAMILY,\n",
        "        'font.size': FONTSIZE,\n",
        "        \"savefig.facecolor\": \"#2c3e50\",\n",
        "        \"savefig.edgecolor\": \"#2c3e50\",\n",
        "        \"text.color\": \"#ffffff\"\n",
        "    }\n",
        "\n",
        "    plt.style.use(slate_styles)\n",
        "    \n",
        "def set_bootstrap_theme():\n",
        "    bootstrap_styles = {\n",
        "        \"axes.edgecolor\": \"#ffffff\",\n",
        "        \"axes.facecolor\": \"#ffffff\",\n",
        "        \"axes.labelcolor\": \"#373a3c\",\n",
        "        \"xtick.color\": \"#373a3c\",\n",
        "        \"ytick.color\": \"#373a3c\",\n",
        "        \"grid.color\": \"#eceeef\",\n",
        "        \"figure.facecolor\": \"#ffffff\",\n",
        "        \"figure.edgecolor\": \"#ffffff\",\n",
        "        \"figure.figsize\": FIGSIZE,\n",
        "        'font.family': FONTFAMILY,\n",
        "        'font.size': FONTSIZE,\n",
        "        \"savefig.facecolor\": \"#ffffff\",\n",
        "        \"savefig.edgecolor\": \"#ffffff\",\n",
        "        \"text.color\": \"#373a3c\"\n",
        "    }\n",
        "\n",
        "    plt.style.use(bootstrap_styles)\n",
        "\n",
        "def set_cosmo_theme():\n",
        "    cosmo_styles = {\n",
        "        \"axes.edgecolor\": \"#ffffff\",\n",
        "        \"axes.facecolor\": \"#ffffff\",\n",
        "        \"axes.labelcolor\": \"#2f3238\",\n",
        "        \"xtick.color\": \"#2f3238\",\n",
        "        \"ytick.color\": \"#2f3238\",\n",
        "        \"grid.color\": \"#eaeef3\",\n",
        "        \"figure.facecolor\": \"#ffffff\",\n",
        "        \"figure.edgecolor\": \"#ffffff\",\n",
        "        \"figure.figsize\": FIGSIZE,\n",
        "        'font.family': FONTFAMILY,\n",
        "        'font.size': FONTSIZE,\n",
        "        \"savefig.facecolor\": \"#ffffff\",\n",
        "        \"savefig.edgecolor\": \"#ffffff\",\n",
        "        \"text.color\": \"#2f3238\"\n",
        "    }\n",
        "\n",
        "    plt.style.use(cosmo_styles)\n",
        "\n",
        "def set_superhero_theme():\n",
        "    superhero_styles = {\n",
        "        \"axes.edgecolor\": \"#ffffff\",\n",
        "        \"axes.facecolor\": \"#212529\",\n",
        "        \"axes.labelcolor\": \"#ffffff\",\n",
        "        \"xtick.color\": \"#ffffff\",\n",
        "        \"ytick.color\": \"#ffffff\",\n",
        "        \"grid.color\": \"#343a40\",\n",
        "        \"figure.facecolor\": \"#212529\",\n",
        "        \"figure.edgecolor\": \"#212529\",\n",
        "        \"figure.figsize\": FIGSIZE,\n",
        "        'font.family': FONTFAMILY,\n",
        "        'font.size': FONTSIZE,\n",
        "        \"savefig.facecolor\": \"#212529\",\n",
        "        \"savefig.edgecolor\": \"#212529\",\n",
        "        \"text.color\": \"#ffffff\"\n",
        "    }\n",
        "\n",
        "    plt.style.use(superhero_styles)\n",
        "\n",
        "set_bootstrap_theme()\n",
        "\n",
        "\n",
        "print('Pandas version', pd.__version__)"
      ]
    },
    {
      "cell_type": "code",
      "execution_count": null,
      "metadata": {
        "colab": {
          "base_uri": "https://localhost:8080/",
          "height": 411
        },
        "colab_type": "code",
        "id": "n_uRU1zkjwCo",
        "outputId": "06d1b4a2-1899-41f8-9499-11337d9ad09e"
      },
      "outputs": [],
      "source": [
        "df = pd.DataFrame(\n",
        "    {'USA':[105.54, 115.71, 140.29, 183.87, 223.29, 260.61, 334.95, 457.33, 649.68, 746.52, 887.62],\n",
        "     'BRA':[183.89, 197.59, 216.93, 249.35, 251.72, 276.42, 307.31, 395.68, 486.35, 477.53, 527.32],\n",
        "     'DEU':[4.3, 5.4, 8.8, 14, 20.4, 35.8, 59.4, 63.8 ,65, 58, 62],\n",
        "     'IND':[2.9, 3.0, 3.2, 3.3, 3.5, 3.9, 4.5, 4.7, 5.2, 7, 7],\n",
        "     'YEAR':pd.date_range('20000101', periods = 11, freq=\"y\")\n",
        "    })\n",
        "\n",
        "df.set_index('YEAR', inplace=True)\n",
        "\n",
        "df.info()"
      ]
    },
    {
      "cell_type": "code",
      "execution_count": null,
      "metadata": {
        "colab": {},
        "colab_type": "code",
        "id": "bjWrrV6BkGY1"
      },
      "outputs": [],
      "source": [
        "df.describe()"
      ]
    },
    {
      "cell_type": "code",
      "execution_count": null,
      "metadata": {
        "colab": {
          "base_uri": "https://localhost:8080/",
          "height": 102
        },
        "colab_type": "code",
        "id": "gNL1mG79jycw",
        "outputId": "63357e3c-dcce-4b74-b180-d3ac038e796c"
      },
      "outputs": [],
      "source": [
        "df.sum()"
      ]
    },
    {
      "cell_type": "code",
      "execution_count": null,
      "metadata": {
        "colab": {
          "base_uri": "https://localhost:8080/",
          "height": 34
        },
        "colab_type": "code",
        "id": "FnGfRpMwj0gP",
        "outputId": "ddc039de-b5f3-487d-9a8c-04a69c5dea13"
      },
      "outputs": [],
      "source": [
        "print(\"{:,.2f}\".format(df.sum().sum()))"
      ]
    },
    {
      "cell_type": "code",
      "execution_count": null,
      "metadata": {
        "colab": {
          "base_uri": "https://localhost:8080/",
          "height": 237
        },
        "colab_type": "code",
        "id": "Up6_vYLtj2Hb",
        "outputId": "d6c6a05c-ac5a-42ea-ac80-69a6fcdae571"
      },
      "outputs": [],
      "source": [
        "df.sum(axis=1)"
      ]
    },
    {
      "cell_type": "markdown",
      "metadata": {
        "colab_type": "text",
        "id": "HOE2H2wdj5dG"
      },
      "source": []
    },
    {
      "cell_type": "code",
      "execution_count": null,
      "metadata": {
        "colab": {
          "base_uri": "https://localhost:8080/",
          "height": 169
        },
        "colab_type": "code",
        "id": "-2Nbu-u3j4EO",
        "outputId": "6b02418b-d42c-4b49-865f-f46893eab1a0"
      },
      "outputs": [],
      "source": [
        "df.T"
      ]
    },
    {
      "cell_type": "markdown",
      "metadata": {
        "colab_type": "text",
        "id": "d_c6F91OkQw_"
      },
      "source": []
    },
    {
      "cell_type": "code",
      "execution_count": null,
      "metadata": {
        "colab": {
          "base_uri": "https://localhost:8080/",
          "height": 279
        },
        "colab_type": "code",
        "id": "hLj6AEUIkPh2",
        "outputId": "eed7030d-e390-4f57-9494-cca9af28b937"
      },
      "outputs": [],
      "source": [
        "df.style.highlight_max().format(\"{:,.4f}\")"
      ]
    },
    {
      "cell_type": "code",
      "execution_count": null,
      "metadata": {
        "colab": {
          "base_uri": "https://localhost:8080/",
          "height": 279
        },
        "colab_type": "code",
        "id": "crWf1MOZkPeJ",
        "outputId": "f0d8319e-9bfd-4724-d87d-b40a66b66bae"
      },
      "outputs": [],
      "source": [
        "df.style.highlight_max(axis=1).format(\"{:,.4f}\")"
      ]
    },
    {
      "cell_type": "code",
      "execution_count": null,
      "metadata": {
        "colab": {
          "base_uri": "https://localhost:8080/",
          "height": 279
        },
        "colab_type": "code",
        "id": "lUJ62gYvkPbX",
        "outputId": "c25b3428-bf3e-495d-8da6-f422f9a785f0"
      },
      "outputs": [],
      "source": [
        "df.style.highlight_max(color='lime').highlight_min(color='pink').format(\"{:,.4f}\")"
      ]
    },
    {
      "cell_type": "code",
      "execution_count": null,
      "metadata": {
        "colab": {
          "base_uri": "https://localhost:8080/",
          "height": 279
        },
        "colab_type": "code",
        "id": "pjoRVQMnkPXq",
        "outputId": "e925bf5f-707e-4655-fcbd-cbc50afe807e"
      },
      "outputs": [],
      "source": [
        "df.style.background_gradient('Blues').format(\"{:,.4f}\")"
      ]
    },
    {
      "cell_type": "code",
      "execution_count": null,
      "metadata": {
        "colab": {
          "base_uri": "https://localhost:8080/",
          "height": 279
        },
        "colab_type": "code",
        "id": "jz5FnjxukPUe",
        "outputId": "4d196a5c-cdef-4ad9-9a73-95f1e2ef7f71"
      },
      "outputs": [],
      "source": [
        "df.style.background_gradient('coolwarm').format(\"{:,.4f}\")"
      ]
    },
    {
      "cell_type": "code",
      "execution_count": null,
      "metadata": {
        "colab": {
          "base_uri": "https://localhost:8080/",
          "height": 279
        },
        "colab_type": "code",
        "id": "8BehFQQ3kgI-",
        "outputId": "7330674d-2f84-4490-eaf1-5eac70512438"
      },
      "outputs": [],
      "source": [
        "def check(val):\n",
        "    if val < 20:\n",
        "        return \"background-color: orange\"\n",
        "    return \"\"\n",
        "\n",
        "df.style.applymap(check).format('{:,.4f}')"
      ]
    },
    {
      "cell_type": "code",
      "execution_count": null,
      "metadata": {
        "colab": {
          "base_uri": "https://localhost:8080/",
          "height": 279
        },
        "colab_type": "code",
        "id": "GA2wGQqxkgD5",
        "outputId": "5ddf64fc-ef0d-4377-c7ce-d19f78cde018"
      },
      "outputs": [],
      "source": [
        "def top10(col):\n",
        "    is_top10 = col > col.quantile(0.9)\n",
        "    return ['background-color:orange' if v else '' for v in is_top10]\n",
        "\n",
        "df.style.apply(top10).format(\"{:,.4f}\")"
      ]
    },
    {
      "cell_type": "code",
      "execution_count": null,
      "metadata": {
        "colab": {
          "base_uri": "https://localhost:8080/",
          "height": 248
        },
        "colab_type": "code",
        "id": "sNKyAr0zkgBO",
        "outputId": "5cc215d2-8702-47ea-e3e4-12617c95143e"
      },
      "outputs": [],
      "source": [
        "df.sum().plot.pie();"
      ]
    },
    {
      "cell_type": "code",
      "execution_count": null,
      "metadata": {
        "colab": {
          "base_uri": "https://localhost:8080/",
          "height": 279
        },
        "colab_type": "code",
        "id": "ZxQRX-3Tk0Ip",
        "outputId": "5d326cc3-d301-4cda-aef3-40ed50bef3b3"
      },
      "outputs": [],
      "source": [
        "df.plot();"
      ]
    },
    {
      "cell_type": "code",
      "execution_count": null,
      "metadata": {
        "colab": {
          "base_uri": "https://localhost:8080/",
          "height": 279
        },
        "colab_type": "code",
        "id": "Y5lhGcEhk6CY",
        "outputId": "7e316731-0855-4b09-c003-e3ea5b9042de"
      },
      "outputs": [],
      "source": [
        "df.plot(marker='o');"
      ]
    },
    {
      "cell_type": "code",
      "execution_count": null,
      "metadata": {
        "colab": {
          "base_uri": "https://localhost:8080/",
          "height": 403
        },
        "colab_type": "code",
        "id": "F7p3yqaqk8pY",
        "outputId": "bd62f8ac-6c79-45ce-cf32-b24e4a773eaf"
      },
      "outputs": [],
      "source": [
        "df.plot(\n",
        "    subplots=True,\n",
        "    lw=2,\n",
        "    marker='s',\n",
        "    alpha=0.7,\n",
        "    layout=(2,2),\n",
        "    figsize=(12,6),\n",
        "    grid=True,\n",
        "    rot=45,\n",
        "    sharex=False\n",
        ");"
      ]
    },
    {
      "cell_type": "code",
      "execution_count": 51,
      "metadata": {
        "colab": {
          "base_uri": "https://localhost:8080/",
          "height": 279
        },
        "colab_type": "code",
        "id": "dSe_3ZAJk_ZU",
        "outputId": "f24328f8-76b0-42a3-eaaa-57cfcfd0af1e"
      },
      "outputs": [],
      "source": [
        "for i, cols in df.iterrows():\n",
        "    if cols.sum() > 3000:\n",
        "        cols.plot(label=i, legend=True, marker='^', markerfacecolor='m')    "
      ]
    },
    {
      "cell_type": "code",
      "execution_count": null,
      "metadata": {
        "colab": {
          "base_uri": "https://localhost:8080/",
          "height": 279
        },
        "colab_type": "code",
        "id": "fFHBKkK8knSK",
        "outputId": "9112d029-bc2e-4a76-afdd-b2c9a02d1db2"
      },
      "outputs": [],
      "source": [
        "df.sum(axis=1).plot(lw=3);"
      ]
    },
    {
      "cell_type": "code",
      "execution_count": null,
      "metadata": {
        "colab": {
          "base_uri": "https://localhost:8080/",
          "height": 279
        },
        "colab_type": "code",
        "id": "vmV17G3wknO2",
        "outputId": "e0426e2e-06d4-4106-dcf5-746c4f52728f"
      },
      "outputs": [],
      "source": [
        "df.plot.area();"
      ]
    },
    {
      "cell_type": "code",
      "execution_count": null,
      "metadata": {
        "colab": {
          "base_uri": "https://localhost:8080/",
          "height": 279
        },
        "colab_type": "code",
        "id": "KUQxet4HknML",
        "outputId": "f7dee869-f18a-44fb-891a-687352afbab7"
      },
      "outputs": [],
      "source": [
        "df.plot.area(stacked=False);"
      ]
    },
    {
      "cell_type": "code",
      "execution_count": null,
      "metadata": {
        "colab": {
          "base_uri": "https://localhost:8080/",
          "height": 374
        },
        "colab_type": "code",
        "id": "pZqb9n_1lTYp",
        "outputId": "47bf26fe-fe1c-40b9-af8b-c8bb5465a582"
      },
      "outputs": [],
      "source": [
        "df.plot.bar();"
      ]
    },
    {
      "cell_type": "code",
      "execution_count": null,
      "metadata": {
        "colab": {
          "base_uri": "https://localhost:8080/",
          "height": 277
        },
        "colab_type": "code",
        "id": "RIyZxOe7lYn5",
        "outputId": "4edfbd83-e435-4dbc-b76e-a998fdd605cb"
      },
      "outputs": [],
      "source": [
        "df.sum().plot.bar();"
      ]
    },
    {
      "cell_type": "code",
      "execution_count": null,
      "metadata": {
        "colab": {
          "base_uri": "https://localhost:8080/",
          "height": 295
        },
        "colab_type": "code",
        "id": "MOPT2hJVknJW",
        "outputId": "49d6d7bb-66da-4f24-8855-608a688b13d3"
      },
      "outputs": [],
      "source": [
        "df.assign(PERIOD = df.index.year)\\\n",
        ".plot.bar(x='PERIOD', y=['BRA','USA']);"
      ]
    },
    {
      "cell_type": "code",
      "execution_count": null,
      "metadata": {
        "colab": {
          "base_uri": "https://localhost:8080/",
          "height": 265
        },
        "colab_type": "code",
        "id": "LaobjyRIlK5p",
        "outputId": "87cf536c-7ab7-4bd5-af23-2dae2ba58169"
      },
      "outputs": [],
      "source": [
        "df.assign(PERIOD = df.index.year)\\\n",
        ".plot.barh(x='PERIOD', y=['DEU','IND'], stacked=True);"
      ]
    },
    {
      "cell_type": "code",
      "execution_count": null,
      "metadata": {
        "colab": {
          "base_uri": "https://localhost:8080/",
          "height": 279
        },
        "colab_type": "code",
        "id": "hdFZEH08lK1x",
        "outputId": "aa2b5b0b-5824-4823-fe71-f39a5c5ee15a"
      },
      "outputs": [],
      "source": [
        "df.plot.scatter(x='USA', y='BRA', s=50, alpha=.5, grid=True);"
      ]
    },
    {
      "cell_type": "code",
      "execution_count": null,
      "metadata": {
        "colab": {
          "base_uri": "https://localhost:8080/",
          "height": 265
        },
        "colab_type": "code",
        "id": "hUA3MKwilKyF",
        "outputId": "b9c7e705-fdb4-4901-ae9d-ef6aaf7c95ab"
      },
      "outputs": [],
      "source": [
        "df.plot.box();"
      ]
    },
    {
      "cell_type": "code",
      "execution_count": null,
      "metadata": {
        "colab": {
          "base_uri": "https://localhost:8080/",
          "height": 809
        },
        "colab_type": "code",
        "id": "NL6p1Sa4knBR",
        "outputId": "04a9bd04-1588-4e97-f5a6-8f78cd7b9ae9"
      },
      "outputs": [],
      "source": [
        "df.plot.hist(subplots=True,figsize=(6, 14), sharex=False);"
      ]
    },
    {
      "cell_type": "code",
      "execution_count": null,
      "metadata": {
        "colab": {
          "base_uri": "https://localhost:8080/",
          "height": 1000
        },
        "colab_type": "code",
        "id": "1ELALZagj6Y7",
        "outputId": "71534910-769d-43ab-c774-ab529d6155c3"
      },
      "outputs": [],
      "source": [
        "df.reset_index().melt(id_vars=['YEAR'], var_name=['COUNTRY'], value_name='PRODUCTION')"
      ]
    },
    {
      "cell_type": "code",
      "execution_count": null,
      "metadata": {
        "colab": {
          "base_uri": "https://localhost:8080/",
          "height": 263
        },
        "colab_type": "code",
        "id": "DrT_KLm9j8Uf",
        "outputId": "2c9c6e7a-dbce-48d3-d80e-3e62ae146b51"
      },
      "outputs": [],
      "source": [
        "xf = df.reset_index().melt(id_vars=['YEAR'], var_name=['COUNTRY'], value_name='PRODUCTION')\n",
        "\n",
        "xf.pivot_table(index='COUNTRY', columns='YEAR', values='PRODUCTION', aggfunc=sum, margins=True)"
      ]
    },
    {
      "cell_type": "code",
      "execution_count": 0,
      "metadata": {
        "colab": {},
        "colab_type": "code",
        "id": "YUbAUYVqj-o2"
      },
      "outputs": [],
      "source": []
    }
  ],
  "metadata": {
    "colab": {
      "authorship_tag": "ABX9TyNmWQfFB0aPJRYDkOD0ma78",
      "include_colab_link": true,
      "name": "Untitled2.ipynb",
      "provenance": []
    },
    "kernelspec": {
      "display_name": "base",
      "language": "python",
      "name": "python3"
    },
    "language_info": {
      "codemirror_mode": {
        "name": "ipython",
        "version": 3
      },
      "file_extension": ".py",
      "mimetype": "text/x-python",
      "name": "python",
      "nbconvert_exporter": "python",
      "pygments_lexer": "ipython3",
      "version": "3.12.2"
    }
  },
  "nbformat": 4,
  "nbformat_minor": 0
}
